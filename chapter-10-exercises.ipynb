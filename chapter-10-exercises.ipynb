{
 "cells": [
  {
   "cell_type": "code",
   "execution_count": 1,
   "metadata": {},
   "outputs": [
    {
     "data": {
      "text/plain": [
       "defined \u001b[32mtrait\u001b[39m \u001b[36mMonoid\u001b[39m"
      ]
     },
     "execution_count": 1,
     "metadata": {},
     "output_type": "execute_result"
    }
   ],
   "source": [
    "trait Monoid[A]:\n",
    "    def combine(a1: A, a2: A): A\n",
    "    def empty: A"
   ]
  },
  {
   "attachments": {},
   "cell_type": "markdown",
   "metadata": {},
   "source": [
    "#### Exercise 10.1\n",
    "\n",
    "Give `Monoid` instances for integer addition and multiplication as well as the `Boolean` operators."
   ]
  },
  {
   "cell_type": "code",
   "execution_count": 2,
   "metadata": {},
   "outputs": [
    {
     "data": {
      "text/plain": [
       "\u001b[36mintAddition\u001b[39m: \u001b[32mMonoid\u001b[39m[\u001b[32mInt\u001b[39m] = ammonite.$sess.cmd1$$anon$1@3d1aa190\n",
       "\u001b[36mintMultiplication\u001b[39m: \u001b[32mMonoid\u001b[39m[\u001b[32mInt\u001b[39m] = ammonite.$sess.cmd1$$anon$2@52234cd8\n",
       "\u001b[36mbooleanOr\u001b[39m: \u001b[32mMonoid\u001b[39m[\u001b[32mBoolean\u001b[39m] = ammonite.$sess.cmd1$$anon$3@1f2d7e59\n",
       "\u001b[36mbooleanAnd\u001b[39m: \u001b[32mMonoid\u001b[39m[\u001b[32mBoolean\u001b[39m] = ammonite.$sess.cmd1$$anon$4@493f2e36"
      ]
     },
     "execution_count": 2,
     "metadata": {},
     "output_type": "execute_result"
    }
   ],
   "source": [
    "val intAddition: Monoid[Int] = new:\n",
    "    def combine(a1: Int, a2: Int) = a1 + a2\n",
    "    def empty = 0\n",
    "\n",
    "val intMultiplication: Monoid[Int] = new:\n",
    "    def combine(a1: Int, a2: Int) = a1 * a2\n",
    "    def empty = 1\n",
    "\n",
    "val booleanOr: Monoid[Boolean] = new:\n",
    "    def combine(a1: Boolean, a2: Boolean) = a1 || a2\n",
    "    def empty = false\n",
    "\n",
    "val booleanAnd: Monoid[Boolean] = new:\n",
    "    def combine(a1: Boolean, a2: Boolean) = a1 && a2\n",
    "    def empty = true"
   ]
  },
  {
   "attachments": {},
   "cell_type": "markdown",
   "metadata": {},
   "source": [
    "#### Exercise 10.2\n",
    "\n",
    "Give a Monoid instance for combining `Option` values."
   ]
  },
  {
   "cell_type": "code",
   "execution_count": 3,
   "metadata": {},
   "outputs": [
    {
     "data": {
      "text/plain": [
       "defined \u001b[32mfunction\u001b[39m \u001b[36moptionMonoid\u001b[39m"
      ]
     },
     "execution_count": 3,
     "metadata": {},
     "output_type": "execute_result"
    }
   ],
   "source": [
    "def optionMonoid[A]: Monoid[Option[A]] = new:\n",
    "    def combine(a1: Option[A], a2: Option[A]): Option[A] = a1.orElse(a2)\n",
    "    def empty = None"
   ]
  },
  {
   "attachments": {},
   "cell_type": "markdown",
   "metadata": {},
   "source": [
    "#### Exercise 10.3\n",
    "\n",
    "A function having the same argument and return type is sometimes called an `endofunction`. Write a monoid for endofunctions.\n"
   ]
  },
  {
   "cell_type": "code",
   "execution_count": 4,
   "metadata": {},
   "outputs": [
    {
     "data": {
      "text/plain": [
       "defined \u001b[32mfunction\u001b[39m \u001b[36mendoMonoid\u001b[39m"
      ]
     },
     "execution_count": 4,
     "metadata": {},
     "output_type": "execute_result"
    }
   ],
   "source": [
    "def endoMonoid[A]: Monoid[A => A] = new:\n",
    "    def combine(f1: A => A, f2: A => A): A => A = f1 compose f2\n",
    "    def empty = identity"
   ]
  },
  {
   "attachments": {},
   "cell_type": "markdown",
   "metadata": {},
   "source": [
    "#### Exercise 10.4\n",
    "\n",
    "Use the property-based testing framework we developed in part 2 to implement a property for the monoid laws. Use your property to test the monoids we’ve written."
   ]
  },
  {
   "cell_type": "code",
   "execution_count": 5,
   "metadata": {},
   "outputs": [
    {
     "name": "stdout",
     "output_type": "stream",
     "text": [
      "Compiling /Users/galex/src/github.com/galexy/fps2/scripts/testing.sc"
     ]
    },
    {
     "data": {
      "text/plain": [
       "\u001b[32mimport \u001b[39m\u001b[36m$file.$              , testing.*\n",
       "\u001b[39m"
      ]
     },
     "execution_count": 5,
     "metadata": {},
     "output_type": "execute_result"
    }
   ],
   "source": [
    "import $file.scripts.testing, testing.*"
   ]
  },
  {
   "cell_type": "code",
   "execution_count": 8,
   "metadata": {},
   "outputs": [
    {
     "data": {
      "text/plain": [
       "defined \u001b[32mfunction\u001b[39m \u001b[36mmonoidLaws\u001b[39m"
      ]
     },
     "execution_count": 8,
     "metadata": {},
     "output_type": "execute_result"
    }
   ],
   "source": [
    "def monoidLaws[A](m: Monoid[A], gen: Gen[A]): Prop =\n",
    "    val trips = gen ** gen ** gen\n",
    "    val p1 = forAll(trips) { case ((x, y), z) => \n",
    "        m.combine(m.combine(x, y), z) == m.combine(x, m.combine(y, z))\n",
    "    }\n",
    "\n",
    "    val p2 = forAll(gen)(x => m.combine(x, m.empty) == m.combine(m.empty, x))\n",
    "\n",
    "    p1 && p2"
   ]
  },
  {
   "cell_type": "code",
   "execution_count": 11,
   "metadata": {},
   "outputs": [
    {
     "name": "stdout",
     "output_type": "stream",
     "text": [
      "+ OK, passed 100 tests.\n",
      "+ OK, passed 100 tests.\n",
      "+ OK, passed 100 tests.\n",
      "+ OK, passed 100 tests.\n"
     ]
    }
   ],
   "source": [
    "monoidLaws(booleanOr, boolean).run()\n",
    "monoidLaws(booleanAnd, boolean).run()\n",
    "monoidLaws(intAddition, choose(Int.MinValue, Int.MaxValue)).run()\n",
    "monoidLaws(intMultiplication, choose(Int.MinValue, Int.MaxValue)).run()\n"
   ]
  },
  {
   "attachments": {},
   "cell_type": "markdown",
   "metadata": {},
   "source": [
    "#### Exercise 10.5\n",
    "\n",
    "Implement `foldMap`."
   ]
  },
  {
   "cell_type": "code",
   "execution_count": 9,
   "metadata": {},
   "outputs": [
    {
     "data": {
      "text/plain": [
       "defined \u001b[32mfunction\u001b[39m \u001b[36mfoldMap\u001b[39m"
      ]
     },
     "execution_count": 9,
     "metadata": {},
     "output_type": "execute_result"
    }
   ],
   "source": [
    "def foldMap[A, B](as: List[A], m: Monoid[B])(f: A => B): B =\n",
    "    as.map(f).foldLeft(m.empty)(m.combine)"
   ]
  },
  {
   "attachments": {},
   "cell_type": "markdown",
   "metadata": {},
   "source": [
    "#### Exercise 10.6\n",
    "\n",
    "*Hard*: The `foldMap` function can be implemented using either `foldLeft` or `foldRight`. But you can also write `foldLeft` and `foldRight` using `foldMap`! Try it."
   ]
  },
  {
   "cell_type": "code",
   "execution_count": 74,
   "metadata": {},
   "outputs": [],
   "source": [
    "def cons[B](combiner: (B, B) => B, init: B): Monoid[B] = new:\n",
    "    def combine(acc: B, b: B): B = combiner\n",
    "    def empty = init\n",
    "\n",
    "def foldLeft2[A, B](as: List[A])(init: B)(f: (B, A) => B): B =\n",
    "    "
   ]
  },
  {
   "attachments": {},
   "cell_type": "markdown",
   "metadata": {},
   "source": [
    "#### Exercise 10.7\n",
    "\n",
    "Implement a `foldMap` for `IndexedSeq`. Your implementation should use the strategy of splitting the sequence in two, recursively processing each half, and then adding the answers together with the monoid."
   ]
  },
  {
   "cell_type": "code",
   "execution_count": 31,
   "metadata": {},
   "outputs": [
    {
     "data": {
      "text/plain": [
       "defined \u001b[32mfunction\u001b[39m \u001b[36mfoldMapV\u001b[39m"
      ]
     },
     "execution_count": 31,
     "metadata": {},
     "output_type": "execute_result"
    }
   ],
   "source": [
    "def foldMapV[A, B](as: IndexedSeq[A], m: Monoid[B])(f: A => B): B =\n",
    "    if (as.length == 0)\n",
    "        m.empty\n",
    "    else if (as.length == 1)\n",
    "        f(as(0))\n",
    "    else\n",
    "        val (left, right) = as.splitAt(as.length / 2)\n",
    "        m.combine(foldMapV(left, m)(f), foldMapV(right, m)(f))"
   ]
  },
  {
   "cell_type": "code",
   "execution_count": 32,
   "metadata": {},
   "outputs": [
    {
     "data": {
      "text/plain": [
       "\u001b[36mres31_0\u001b[39m: \u001b[32mInt\u001b[39m = \u001b[32m15\u001b[39m\n",
       "\u001b[36mres31_1\u001b[39m: \u001b[32mInt\u001b[39m = \u001b[32m0\u001b[39m"
      ]
     },
     "execution_count": 32,
     "metadata": {},
     "output_type": "execute_result"
    }
   ],
   "source": [
    "foldMapV(Array(1, 2, 3, 4, 5), intAddition)(identity)\n",
    "foldMapV(Array(): Array[Int], intAddition)(identity)"
   ]
  },
  {
   "attachments": {},
   "cell_type": "markdown",
   "metadata": {},
   "source": [
    "#### Exercise 10.9\n",
    "\n",
    "*Hard*: Use `foldMap` to detect whether a given `IndexedSeq[Int]` is ordered. You’ll need to come up with a creative `Monoid`.\n"
   ]
  },
  {
   "cell_type": "code",
   "execution_count": 33,
   "metadata": {},
   "outputs": [
    {
     "data": {
      "text/plain": [
       "defined \u001b[32mclass\u001b[39m \u001b[36mIsOrdered\u001b[39m\n",
       "\u001b[36mIsOrderedMonoid\u001b[39m: \u001b[32mMonoid\u001b[39m[\u001b[32mIsOrdered\u001b[39m] = ammonite.$sess.cmd32$$anon$1@20517810\n",
       "defined \u001b[32mfunction\u001b[39m \u001b[36misOrdered\u001b[39m"
      ]
     },
     "execution_count": 33,
     "metadata": {},
     "output_type": "execute_result"
    }
   ],
   "source": [
    "enum IsOrdered:\n",
    "    case NotOrdered\n",
    "    case EmptyOrdered\n",
    "    case Ordered(start: Int, end: Int)\n",
    "\n",
    "val IsOrderedMonoid: Monoid[IsOrdered] = new:\n",
    "    import IsOrdered.*\n",
    "\n",
    "    def combine(left: IsOrdered, right: IsOrdered): IsOrdered = (left, right) match\n",
    "        case (Ordered(s1, e1), Ordered(s2, e2)) if e1 < s2 => Ordered(s1, e2)\n",
    "        case (o1@Ordered(_, _), EmptyOrdered) => o1\n",
    "        case (EmptyOrdered, o2@(Ordered(_, _))) => o2\n",
    "        case _ => NotOrdered\n",
    "    \n",
    "    def empty = EmptyOrdered\n",
    "\n",
    "def isOrdered(is: IndexedSeq[Int]): Boolean =\n",
    "    import IsOrdered.*\n",
    "\n",
    "    foldMapV(is, IsOrderedMonoid)(i => Ordered(i, i)) != NotOrdered"
   ]
  },
  {
   "cell_type": "code",
   "execution_count": 34,
   "metadata": {},
   "outputs": [
    {
     "data": {
      "text/plain": [
       "\u001b[36mres33_0\u001b[39m: \u001b[32mBoolean\u001b[39m = \u001b[32mtrue\u001b[39m\n",
       "\u001b[36mres33_1\u001b[39m: \u001b[32mBoolean\u001b[39m = \u001b[32mfalse\u001b[39m\n",
       "\u001b[36mres33_2\u001b[39m: \u001b[32mBoolean\u001b[39m = \u001b[32mtrue\u001b[39m"
      ]
     },
     "execution_count": 34,
     "metadata": {},
     "output_type": "execute_result"
    }
   ],
   "source": [
    "isOrdered(Array(1, 2, 3, 4))\n",
    "isOrdered(Array(1, 2, 4, 3, 5))\n",
    "isOrdered(Array():Array[Int])"
   ]
  },
  {
   "attachments": {},
   "cell_type": "markdown",
   "metadata": {},
   "source": [
    "#### Exercise 10.10\n",
    "\n",
    "Write a monoid instance for `WC` and make sure that it meets the monoid laws."
   ]
  },
  {
   "cell_type": "code",
   "execution_count": 44,
   "metadata": {},
   "outputs": [
    {
     "data": {
      "text/plain": [
       "defined \u001b[32mclass\u001b[39m \u001b[36mWC\u001b[39m\n",
       "\u001b[36mwcMonoid\u001b[39m: \u001b[32mMonoid\u001b[39m[\u001b[32mWC\u001b[39m] = ammonite.$sess.cmd43$$anon$1@22da2684"
      ]
     },
     "execution_count": 44,
     "metadata": {},
     "output_type": "execute_result"
    }
   ],
   "source": [
    "enum WC:\n",
    "    case Stub(chars: String)\n",
    "    case Part(lStub: String, words: Int, rStub: String)\n",
    "\n",
    "val wcMonoid: Monoid[WC] = new:\n",
    "    import WC.*\n",
    "    def combine(left: WC, right: WC): WC = (left, right) match\n",
    "        case (Stub(l), Stub(r)) => Stub(l + r)\n",
    "        case (Stub(l), Part(lStub, words, rStub)) => Part(l + lStub, words, rStub)\n",
    "        case (Part(lStub, words, rStub), Stub(r)) => Part(lStub, words, rStub + r)\n",
    "        case (Part(llStub, lWords, lrStub), Part(rlStub, rWords, rrStub)) =>\n",
    "            Part(llStub, lWords + rWords + (if (lrStub + rlStub).isEmpty then 0 else 1), rrStub)\n",
    "    def empty = Stub(\"\")\n"
   ]
  },
  {
   "attachments": {},
   "cell_type": "markdown",
   "metadata": {},
   "source": [
    "#### Exercise 10.11\n",
    "\n",
    "Use the `WC` monoid to implement a function that counts words in a String by recursively splitting it into substrings and counting the words in those substrings."
   ]
  },
  {
   "cell_type": "code",
   "execution_count": 37,
   "metadata": {},
   "outputs": [
    {
     "data": {
      "text/plain": [
       "defined \u001b[32mfunction\u001b[39m \u001b[36mwordCount\u001b[39m"
      ]
     },
     "execution_count": 37,
     "metadata": {},
     "output_type": "execute_result"
    }
   ],
   "source": [
    "def wordCount(text: String): Int =\n",
    "    def fold(s: String): WC =\n",
    "        if (s.length == 0)\n",
    "            wcMonoid.empty\n",
    "        else if (s.length == 1)\n",
    "            WC.Stub(s)\n",
    "        else\n",
    "            val (left, right) = s.splitAt(s.length / 2)\n",
    "            wcMonoid.combine(fold(left), fold(right))\n",
    "    fold(text) match\n",
    "        case WC.Stub(c) => if c.length > 0 then 1 else 0\n",
    "        case WC.Part(l, w, r) => (if l.length > 0 then 1 else 0) + w + (if r.length > 0 then 1 else 0)\n",
    "    "
   ]
  },
  {
   "cell_type": "code",
   "execution_count": 43,
   "metadata": {},
   "outputs": [
    {
     "data": {
      "text/plain": [
       "\u001b[36mres42_0\u001b[39m: \u001b[32mInt\u001b[39m = \u001b[32m0\u001b[39m\n",
       "\u001b[36mres42_1\u001b[39m: \u001b[32mInt\u001b[39m = \u001b[32m1\u001b[39m\n",
       "\u001b[36mres42_2\u001b[39m: \u001b[32mInt\u001b[39m = \u001b[32m1\u001b[39m"
      ]
     },
     "execution_count": 43,
     "metadata": {},
     "output_type": "execute_result"
    }
   ],
   "source": [
    "wordCount(\"\")\n",
    "wordCount(\"f\")\n",
    "wordCount(\"f f\")"
   ]
  },
  {
   "cell_type": "code",
   "execution_count": 46,
   "metadata": {},
   "outputs": [
    {
     "data": {
      "text/plain": [
       "defined \u001b[32mobject\u001b[39m \u001b[36mMonoid\u001b[39m"
      ]
     },
     "execution_count": 46,
     "metadata": {},
     "output_type": "execute_result"
    }
   ],
   "source": [
    "object Monoid:\n",
    "    given intAddition: Monoid[Int] with\n",
    "        def combine(a1: Int, a2: Int) = a1 + a2\n",
    "        val empty = 0\n",
    "\n",
    "    val intMultiplication: Monoid[Int] = new:\n",
    "        def combine(a1: Int, a2: Int) = a1 * a2\n",
    "        val empty = 1\n",
    "\n",
    "    given string: Monoid[String] with\n",
    "        def combine(a1: String, a2: String) = a1 + a2\n",
    "        val empty = \"\"\n",
    "\n",
    "    val booleanOr: Monoid[Boolean] = new:\n",
    "        def combine(x: Boolean, y: Boolean) = x || y\n",
    "        val empty = false\n",
    "\n",
    "    val booleanAnd: Monoid[Boolean] = new:\n",
    "        def combine(x: Boolean, y: Boolean) = x && y\n",
    "        val empty = true\n",
    "\n",
    "    given endoMonoid[A]: Monoid[A => A] = new:\n",
    "        def combine(f1: A => A, f2: A => A): A => A = f1 compose f2\n",
    "        def empty = identity \n",
    "\n",
    "    def dual[A](m: Monoid[A]): Monoid[A] = new:\n",
    "        def combine(x: A, y: A): A = m.combine(y, x)\n",
    "        val empty = m.empty"
   ]
  },
  {
   "attachments": {},
   "cell_type": "markdown",
   "metadata": {},
   "source": [
    "#### Exercise 10.12\n",
    "\n",
    "Implement `Foldable[List]`, `Foldable[IndexedSeq]`, and `Foldable[LazyList]`. Remember that `foldRight`, `foldLeft`, and `foldMap` can all be implemented in terms of each other, but that might not be the most efficient implementation.\n"
   ]
  },
  {
   "cell_type": "code",
   "execution_count": 52,
   "metadata": {},
   "outputs": [
    {
     "data": {
      "text/plain": [
       "defined \u001b[32mtrait\u001b[39m \u001b[36mFoldable\u001b[39m"
      ]
     },
     "execution_count": 52,
     "metadata": {},
     "output_type": "execute_result"
    }
   ],
   "source": [
    "trait Foldable[F[_]]:\n",
    "    import Monoid.*\n",
    "\n",
    "    extension [A](as: F[A])\n",
    "        def foldR[B](acc: B)(f: (A, B) => B): B = \n",
    "            as.foldMap(f.curried)(using dual(endoMonoid))(acc)\n",
    "\n",
    "        def foldL[B](acc: B)(f: (B, A) => B): B =\n",
    "            as.foldMap(a => b => f(b, a))(using endoMonoid)(acc)\n",
    "\n",
    "        def foldMap[B](f: A => B)(using m: Monoid[B]): B =\n",
    "            as.foldL(m.empty)((b, a) => m.combine(b, f(a)))\n",
    "\n",
    "        def combineAll(using m: Monoid[A]): A = \n",
    "            as.foldL(m.empty)(m.combine)"
   ]
  },
  {
   "cell_type": "code",
   "execution_count": 75,
   "metadata": {},
   "outputs": [
    {
     "data": {
      "text/plain": [
       "defined \u001b[32mobject\u001b[39m \n",
       "defined \u001b[32mobject\u001b[39m "
      ]
     },
     "execution_count": 75,
     "metadata": {},
     "output_type": "execute_result"
    }
   ],
   "source": [
    "given Foldable[List] with\n",
    "    extension [A](as: List[A])\n",
    "        override def foldR[B](acc: B)(f: (A, B) => B): B = as.foldRight(acc)(f)\n",
    "        override def foldL[B](acc: B)(f: (B, A) => B): B = as.foldLeft(acc)(f)\n",
    "\n",
    "given Foldable[IndexedSeq] with\n",
    "    extension [A](as: IndexedSeq[A])\n",
    "        override def foldR[B](acc: B)(f: (A, B) => B): B = as.foldRight(acc)(f)\n",
    "        override def foldL[B](acc: B)(f: (B, A) => B): B = as.foldLeft(acc)(f)\n",
    "        override def foldMap[B](f: A => B)(using mb: Monoid[B]): B =\n",
    "            foldMapV(as, mb)(f)\n",
    "        "
   ]
  },
  {
   "cell_type": "code",
   "execution_count": 59,
   "metadata": {},
   "outputs": [
    {
     "data": {
      "text/plain": [
       "defined \u001b[32mfunction\u001b[39m \u001b[36mfoo\u001b[39m\n",
       "\u001b[36mres58_1\u001b[39m: \u001b[32mInt\u001b[39m = \u001b[32m24\u001b[39m"
      ]
     },
     "execution_count": 59,
     "metadata": {},
     "output_type": "execute_result"
    }
   ],
   "source": [
    "def foo(is: List[Int])(using Foldable[List]): Int =\n",
    "    import Monoid.intMultiplication\n",
    "    is.foldMap(_ + 1)(using intMultiplication)\n",
    "\n",
    "foo(List(1, 2, 3))"
   ]
  },
  {
   "attachments": {},
   "cell_type": "markdown",
   "metadata": {},
   "source": [
    "#### Exercise 10.13\n",
    "\n",
    "Recall the binary Tree data type from chapter 3. Implement a Foldable instance for it."
   ]
  },
  {
   "cell_type": "code",
   "execution_count": 61,
   "metadata": {},
   "outputs": [
    {
     "data": {
      "text/plain": [
       "defined \u001b[32mclass\u001b[39m \u001b[36mTree\u001b[39m\n",
       "defined \u001b[32mobject\u001b[39m "
      ]
     },
     "execution_count": 61,
     "metadata": {},
     "output_type": "execute_result"
    }
   ],
   "source": [
    "enum Tree[+A]:\n",
    "    case Leaf(value: A)\n",
    "    case Branch(left: Tree[A], right: Tree[A])\n",
    "\n",
    "given Foldable[Tree] with\n",
    "    import Tree.*\n",
    "    extension [A](as: Tree[A])\n",
    "        override def foldR[B](acc: B)(f: (A, B) => B): B = as match\n",
    "            case Leaf(a) => f(a, acc)\n",
    "            case Branch(l, r) => l.foldR(r.foldR(acc)(f))(f)\n",
    "\n",
    "        override def foldL[B](acc: B)(f: (B, A) => B): B = as match\n",
    "            case Leaf(a) => f(acc, a)\n",
    "            case Branch(l, r) => r.foldL(l.foldL(acc)(f))(f)\n",
    "\n",
    "        override def foldMap[B](f: A => B)(using m: Monoid[B]): B = as match\n",
    "            case Leaf(a) => f(a)\n",
    "            case Branch(l, r) => m.combine(l.foldMap(f), r.foldMap(f))\n"
   ]
  },
  {
   "attachments": {},
   "cell_type": "markdown",
   "metadata": {},
   "source": [
    "#### Exercise 10.14\n",
    "\n",
    "Write a `Foldable[Option]` instance."
   ]
  },
  {
   "cell_type": "code",
   "execution_count": 62,
   "metadata": {},
   "outputs": [
    {
     "data": {
      "text/plain": [
       "defined \u001b[32mobject\u001b[39m "
      ]
     },
     "execution_count": 62,
     "metadata": {},
     "output_type": "execute_result"
    }
   ],
   "source": [
    "given Foldable[Option] with\n",
    "    extension [A](as: Option[A])\n",
    "        override def foldR[B](acc: B)(f: (A, B) => B): B = as match\n",
    "            case None => acc\n",
    "            case Some(a) => f(a, acc)\n",
    "        override def foldL[B](acc: B)(f: (B, A) => B): B = as match\n",
    "            case None => acc\n",
    "            case Some(a) => f(acc, a)\n",
    "        override def foldMap[B](f: A => B)(using m: Monoid[B]): B = as match\n",
    "            case None => m.empty\n",
    "            case Some(a) => f(a)"
   ]
  },
  {
   "attachments": {},
   "cell_type": "markdown",
   "metadata": {},
   "source": [
    "Exercise 10.15\n",
    "\n",
    "Any `Foldable` structure can be turned into a `List`. Add a `toList` extension method to the `Foldable` trait and provide a concrete implementation in terms of the other methods on `Foldable`."
   ]
  },
  {
   "cell_type": "code",
   "execution_count": 63,
   "metadata": {},
   "outputs": [
    {
     "data": {
      "text/plain": [
       "defined \u001b[32mtrait\u001b[39m \u001b[36mFoldable\u001b[39m"
      ]
     },
     "execution_count": 63,
     "metadata": {},
     "output_type": "execute_result"
    }
   ],
   "source": [
    "trait Foldable[F[_]]:\n",
    "    import Monoid.*\n",
    "\n",
    "    extension [A](as: F[A])\n",
    "        def foldR[B](acc: B)(f: (A, B) => B): B = \n",
    "            as.foldMap(f.curried)(using dual(endoMonoid))(acc)\n",
    "\n",
    "        def foldL[B](acc: B)(f: (B, A) => B): B =\n",
    "            as.foldMap(a => b => f(b, a))(using endoMonoid)(acc)\n",
    "\n",
    "        def foldMap[B](f: A => B)(using m: Monoid[B]): B =\n",
    "            as.foldL(m.empty)((b, a) => m.combine(b, f(a)))\n",
    "\n",
    "        def combineAll(using m: Monoid[A]): A = \n",
    "            as.foldL(m.empty)(m.combine)\n",
    "\n",
    "        def toList: List[A] = foldR(Nil: List[A])(_ :: _)"
   ]
  },
  {
   "attachments": {},
   "cell_type": "markdown",
   "metadata": {},
   "source": [
    "#### Exercise 10.16\n",
    "\n",
    "Implement `productMonoid` using a `ma: Monoid[A]` and `mb: Monoid[B]`. Notice that your implementation of combine is associative so long as `ma.combine` and `mb.combine` are both associative.\n"
   ]
  },
  {
   "cell_type": "code",
   "execution_count": 64,
   "metadata": {},
   "outputs": [
    {
     "data": {
      "text/plain": [
       "defined \u001b[32mclass\u001b[39m \u001b[36mproductMonoid\u001b[39m"
      ]
     },
     "execution_count": 64,
     "metadata": {},
     "output_type": "execute_result"
    }
   ],
   "source": [
    "given productMonoid[A, B](using ma: Monoid[A], mb: Monoid[B]): Monoid[(A, B)] with\n",
    "    def combine(x: (A, B), y: (A, B)) = (ma.combine(x(0), y(0)), mb.combine(x(1), y(1)))\n",
    "    val empty = (ma.empty, mb.empty)"
   ]
  },
  {
   "attachments": {},
   "cell_type": "markdown",
   "metadata": {},
   "source": [
    "given mapMergeMonoid[K, V](using )"
   ]
  },
  {
   "cell_type": "code",
   "execution_count": 65,
   "metadata": {},
   "outputs": [
    {
     "data": {
      "text/plain": [
       "defined \u001b[32mclass\u001b[39m \u001b[36mmapMergeMonoid\u001b[39m"
      ]
     },
     "execution_count": 65,
     "metadata": {},
     "output_type": "execute_result"
    }
   ],
   "source": [
    "given mapMergeMonoid[K, V](using m: Monoid[V]): Monoid[Map[K, V]] with\n",
    "    def combine(a: Map[K, V], b: Map[K, V]): Map[K, V] =\n",
    "        (a.keySet ++ b.keySet).foldLeft(empty){ (acc, k) =>\n",
    "            acc.updated(k, m.combine(a.getOrElse(k, m.empty),\n",
    "                                     b.getOrElse(k, m.empty)))\n",
    "        }\n",
    "\n",
    "    val empty = Map()"
   ]
  },
  {
   "cell_type": "code",
   "execution_count": 67,
   "metadata": {},
   "outputs": [
    {
     "data": {
      "text/plain": [
       "\u001b[36ma\u001b[39m: \u001b[32mMap\u001b[39m[\u001b[32mString\u001b[39m, \u001b[32mInt\u001b[39m] = \u001b[33mMap\u001b[39m(\u001b[32m\"k1\"\u001b[39m -> \u001b[32m1\u001b[39m, \u001b[32m\"k2\"\u001b[39m -> \u001b[32m2\u001b[39m)\n",
       "\u001b[36mb\u001b[39m: \u001b[32mMap\u001b[39m[\u001b[32mString\u001b[39m, \u001b[32mInt\u001b[39m] = \u001b[33mMap\u001b[39m(\u001b[32m\"k2\"\u001b[39m -> \u001b[32m3\u001b[39m, \u001b[32m\"k3\"\u001b[39m -> \u001b[32m4\u001b[39m)\n",
       "\u001b[32mimport \u001b[39m\u001b[36mMonoid.intAddition\n",
       "\u001b[39m\n",
       "\u001b[36mm\u001b[39m: \u001b[32mmapMergeMonoid\u001b[39m[\u001b[32mString\u001b[39m, \u001b[32mInt\u001b[39m] = ammonite.$sess.cmd64$Helper$mapMergeMonoid@41a9163d\n",
       "\u001b[36mres66_4\u001b[39m: \u001b[32mMap\u001b[39m[\u001b[32mString\u001b[39m, \u001b[32mInt\u001b[39m] = \u001b[33mMap\u001b[39m(\u001b[32m\"k1\"\u001b[39m -> \u001b[32m1\u001b[39m, \u001b[32m\"k2\"\u001b[39m -> \u001b[32m5\u001b[39m, \u001b[32m\"k3\"\u001b[39m -> \u001b[32m4\u001b[39m)"
      ]
     },
     "execution_count": 67,
     "metadata": {},
     "output_type": "execute_result"
    }
   ],
   "source": [
    "val a = Map(\"k1\" -> 1, \"k2\" -> 2)\n",
    "val b = Map(\"k2\" -> 3, \"k3\" -> 4)\n",
    "import Monoid.intAddition\n",
    "val m = summon[Monoid[Map[String, Int]]]\n",
    "m.combine(a, b)"
   ]
  },
  {
   "attachments": {},
   "cell_type": "markdown",
   "metadata": {},
   "source": [
    "#### Exercise 10.17\n",
    "\n",
    "Write a monoid instance for functions whose results are monoids."
   ]
  },
  {
   "cell_type": "code",
   "execution_count": 68,
   "metadata": {},
   "outputs": [
    {
     "data": {
      "text/plain": [
       "defined \u001b[32mclass\u001b[39m \u001b[36mfunctionMonoid\u001b[39m"
      ]
     },
     "execution_count": 68,
     "metadata": {},
     "output_type": "execute_result"
    }
   ],
   "source": [
    "given functionMonoid[A, B](using mb: Monoid[B]): Monoid[A => B] with\n",
    "    def combine(f: A => B, g: A => B): A => B = a => mb.combine(f(a), g(a))\n",
    "    val empty: A => B = a => mb.empty"
   ]
  },
  {
   "cell_type": "code",
   "execution_count": 71,
   "metadata": {},
   "outputs": [
    {
     "data": {
      "text/plain": [
       "\u001b[36mfadd\u001b[39m: \u001b[32mfunctionMonoid\u001b[39m[\u001b[32mInt\u001b[39m, \u001b[32mInt\u001b[39m] = ammonite.$sess.cmd67$Helper$functionMonoid@584ccb54\n",
       "\u001b[36mres70_1\u001b[39m: \u001b[32mInt\u001b[39m = \u001b[32m31\u001b[39m\n",
       "\u001b[36mfmult\u001b[39m: \u001b[32mfunctionMonoid\u001b[39m[\u001b[32mInt\u001b[39m, \u001b[32mInt\u001b[39m] = ammonite.$sess.cmd67$Helper$functionMonoid@2361f813\n",
       "\u001b[36mres70_3\u001b[39m: \u001b[32mInt\u001b[39m = \u001b[32m220\u001b[39m"
      ]
     },
     "execution_count": 71,
     "metadata": {},
     "output_type": "execute_result"
    }
   ],
   "source": [
    "val fadd = summon[Monoid[Int => Int]]\n",
    "fadd.combine(_ + 1, _ * 2)(10)\n",
    "\n",
    "val fmult = functionMonoid[Int, Int](using Monoid.intMultiplication)\n",
    "fmult.combine(_ + 1, _ * 2)(10)"
   ]
  },
  {
   "attachments": {},
   "cell_type": "markdown",
   "metadata": {},
   "source": [
    "#### Exercise 10.18\n",
    "\n",
    "A bag is like a set, except that it’s represented by a map that contains one entry per element with that element as the key, and the value under that key is the number of times the element appears in the bag. For example:\n",
    "\n",
    "```scala\n",
    "scala> bag(Vector(\"a\", \"rose\", \"is\", \"a\", \"rose\"))\n",
    "res0: Map[String,Int] = Map(a -> 2, rose -> 2, is -> 1)\n",
    "```"
   ]
  },
  {
   "cell_type": "code",
   "execution_count": 72,
   "metadata": {},
   "outputs": [
    {
     "data": {
      "text/plain": [
       "defined \u001b[32mfunction\u001b[39m \u001b[36mbag\u001b[39m"
      ]
     },
     "execution_count": 72,
     "metadata": {},
     "output_type": "execute_result"
    }
   ],
   "source": [
    "def bag[A](as: IndexedSeq[A]): Map[A, Int] =\n",
    "    if as.length == 0 then \n",
    "        Map()\n",
    "    else if as.length == 1 then \n",
    "        Map(as(0) -> 1)\n",
    "    else\n",
    "        val (l, r) = as.splitAt(as.length / 2)\n",
    "        mapMergeMonoid.combine(bag(l), bag(r))"
   ]
  },
  {
   "cell_type": "code",
   "execution_count": 73,
   "metadata": {},
   "outputs": [
    {
     "data": {
      "text/plain": [
       "\u001b[36mres72\u001b[39m: \u001b[32mMap\u001b[39m[\u001b[32mString\u001b[39m, \u001b[32mInt\u001b[39m] = \u001b[33mMap\u001b[39m(\u001b[32m\"a\"\u001b[39m -> \u001b[32m2\u001b[39m, \u001b[32m\"rose\"\u001b[39m -> \u001b[32m2\u001b[39m, \u001b[32m\"is\"\u001b[39m -> \u001b[32m1\u001b[39m)"
      ]
     },
     "execution_count": 73,
     "metadata": {},
     "output_type": "execute_result"
    }
   ],
   "source": [
    "bag(Vector(\"a\", \"rose\", \"is\", \"a\", \"rose\"))"
   ]
  },
  {
   "cell_type": "code",
   "execution_count": 76,
   "metadata": {},
   "outputs": [
    {
     "data": {
      "text/plain": [
       "defined \u001b[32mfunction\u001b[39m \u001b[36mbag\u001b[39m"
      ]
     },
     "execution_count": 76,
     "metadata": {},
     "output_type": "execute_result"
    }
   ],
   "source": [
    "def bag[A](as: IndexedSeq[A]): Map[A, Int] =\n",
    "    as.foldMap(a => Map(a -> 1))"
   ]
  },
  {
   "cell_type": "code",
   "execution_count": 77,
   "metadata": {},
   "outputs": [
    {
     "data": {
      "text/plain": [
       "\u001b[36mres76\u001b[39m: \u001b[32mMap\u001b[39m[\u001b[32mString\u001b[39m, \u001b[32mInt\u001b[39m] = \u001b[33mMap\u001b[39m(\u001b[32m\"a\"\u001b[39m -> \u001b[32m2\u001b[39m, \u001b[32m\"rose\"\u001b[39m -> \u001b[32m2\u001b[39m, \u001b[32m\"is\"\u001b[39m -> \u001b[32m1\u001b[39m)"
      ]
     },
     "execution_count": 77,
     "metadata": {},
     "output_type": "execute_result"
    }
   ],
   "source": [
    "bag(Vector(\"a\", \"rose\", \"is\", \"a\", \"rose\"))"
   ]
  },
  {
   "cell_type": "code",
   "execution_count": null,
   "metadata": {},
   "outputs": [],
   "source": []
  }
 ],
 "metadata": {
  "kernelspec": {
   "display_name": "Scala",
   "language": "scala",
   "name": "scala"
  },
  "language_info": {
   "codemirror_mode": "text/x-scala",
   "file_extension": ".sc",
   "mimetype": "text/x-scala",
   "name": "scala",
   "nbconvert_exporter": "script",
   "version": "2.13.10"
  },
  "orig_nbformat": 4
 },
 "nbformat": 4,
 "nbformat_minor": 2
}
