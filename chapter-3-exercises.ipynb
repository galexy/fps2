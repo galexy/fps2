{
 "cells": [
  {
   "cell_type": "code",
   "execution_count": 1,
   "metadata": {},
   "outputs": [
    {
     "data": {
      "text/plain": [
       "\u001b[36mres0\u001b[39m: \u001b[32mString\u001b[39m = \u001b[32m\"3.2.2\"\u001b[39m"
      ]
     },
     "execution_count": 1,
     "metadata": {},
     "output_type": "execute_result"
    }
   ],
   "source": [
    "dotty.tools.dotc.config.Properties.simpleVersionString"
   ]
  },
  {
   "attachments": {},
   "cell_type": "markdown",
   "metadata": {},
   "source": [
    "### 3.2 Pattern Matching"
   ]
  },
  {
   "cell_type": "code",
   "execution_count": 2,
   "metadata": {},
   "outputs": [
    {
     "data": {
      "text/plain": [
       "defined \u001b[32mclass\u001b[39m \u001b[36mList\u001b[39m\n",
       "defined \u001b[32mobject\u001b[39m \u001b[36mList\u001b[39m"
      ]
     },
     "execution_count": 2,
     "metadata": {},
     "output_type": "execute_result"
    }
   ],
   "source": [
    "enum List[+A]:\n",
    "    case Nil\n",
    "    case Cons(head: A, tail: List[A])\n",
    "\n",
    "object List:\n",
    "    def apply[A](as: A*): List[A] =\n",
    "        if as.isEmpty then Nil\n",
    "        else Cons(as.head, apply(as.tail*))\n",
    "\n",
    "    def sum(ints: List[Int]): Int = ints match\n",
    "        case Nil => 0\n",
    "        case Cons(x, xs) => x + sum(xs)\n",
    "\n",
    "    def product(doubles: List[Double]): Double = doubles match\n",
    "        case Nil => 1.0\n",
    "        case Cons(0.0, _) => 0.0\n",
    "        case Cons(x, xs) => x * product(xs)"
   ]
  },
  {
   "attachments": {},
   "cell_type": "markdown",
   "metadata": {},
   "source": [
    "#### Exercise 3.1\n",
    "\n",
    "What is the result of the following match expression?"
   ]
  },
  {
   "cell_type": "code",
   "execution_count": 3,
   "metadata": {},
   "outputs": [
    {
     "data": {
      "text/plain": [
       "\u001b[32mimport \u001b[39m\u001b[36mList.*\n",
       "\u001b[39m"
      ]
     },
     "execution_count": 3,
     "metadata": {},
     "output_type": "execute_result"
    }
   ],
   "source": [
    "import List.*"
   ]
  },
  {
   "cell_type": "code",
   "execution_count": 4,
   "metadata": {},
   "outputs": [
    {
     "data": {
      "text/plain": [
       "\u001b[36mresult\u001b[39m: \u001b[32mInt\u001b[39m = \u001b[32m3\u001b[39m"
      ]
     },
     "execution_count": 4,
     "metadata": {},
     "output_type": "execute_result"
    }
   ],
   "source": [
    "val result = List(1, 2, 3, 4, 5) match\n",
    "    case Cons(x, Cons(2, Cons(4, _))) => x\n",
    "    case Nil => 42\n",
    "    case Cons(x, Cons(y, Cons(3, Cons(4, _)))) => x + y\n",
    "    case Cons(h, t) => h + sum(t)\n",
    "    case _ => 101"
   ]
  },
  {
   "attachments": {},
   "cell_type": "markdown",
   "metadata": {},
   "source": [
    "#### Exercise 3.2\n",
    "\n",
    "Implement the function tail for removing the first element of a `List` (note that the function takes constasnt time). You can use `sys.error(\"message\")` to throw an exception if the `List` is `Nil`. In the next chapter, we'll look at different ways of handling errors. Be careful to use the `List` enum and the `Nil` case defined here and not the built-in Scala `List` and `Nil` types."
   ]
  },
  {
   "cell_type": "code",
   "execution_count": 5,
   "metadata": {},
   "outputs": [
    {
     "data": {
      "text/plain": [
       "defined \u001b[32mfunction\u001b[39m \u001b[36mtail\u001b[39m"
      ]
     },
     "execution_count": 5,
     "metadata": {},
     "output_type": "execute_result"
    }
   ],
   "source": [
    "def tail[A](xs: List[A]) = xs match\n",
    "    case Nil => sys.error(\"Empty list doesn't have tail\")\n",
    "    case Cons(x, xs) => xs\n"
   ]
  },
  {
   "cell_type": "code",
   "execution_count": 6,
   "metadata": {},
   "outputs": [
    {
     "data": {
      "text/plain": [
       "\u001b[36mres5\u001b[39m: \u001b[32mList\u001b[39m[\u001b[32mInt\u001b[39m] = \u001b[33mCons\u001b[39m(head = \u001b[32m2\u001b[39m, tail = \u001b[33mCons\u001b[39m(head = \u001b[32m3\u001b[39m, tail = Nil))"
      ]
     },
     "execution_count": 6,
     "metadata": {},
     "output_type": "execute_result"
    }
   ],
   "source": [
    "tail(List(1, 2, 3))"
   ]
  },
  {
   "cell_type": "code",
   "execution_count": 7,
   "metadata": {},
   "outputs": [
    {
     "ename": "",
     "evalue": "",
     "output_type": "error",
     "traceback": [
      "\u001b[31mjava.lang.RuntimeException: Empty list doesn't have tail\u001b[39m\n  scala.sys.package$.error(\u001b[32mpackage.scala\u001b[39m:\u001b[32m27\u001b[39m)\n  ammonite.$sess.cmd4$Helper.tail(\u001b[32mcmd4.sc\u001b[39m:\u001b[32m2\u001b[39m)\n  ammonite.$sess.cmd6$Helper.<init>(\u001b[32mcmd6.sc\u001b[39m:\u001b[32m1\u001b[39m)\n  ammonite.$sess.cmd6$.<clinit>(\u001b[32mcmd6.sc\u001b[39m:\u001b[32m65396\u001b[39m)"
     ]
    }
   ],
   "source": [
    "tail(Nil)"
   ]
  },
  {
   "attachments": {},
   "cell_type": "markdown",
   "metadata": {},
   "source": [
    "#### Exercise 3.3\n",
    "\n",
    "Using the same idea, implement the function `setHead` for replacing the first element of a `List` with a different value."
   ]
  },
  {
   "cell_type": "code",
   "execution_count": 8,
   "metadata": {},
   "outputs": [
    {
     "data": {
      "text/plain": [
       "defined \u001b[32mfunction\u001b[39m \u001b[36msetHead\u001b[39m"
      ]
     },
     "execution_count": 8,
     "metadata": {},
     "output_type": "execute_result"
    }
   ],
   "source": [
    "def setHead[A](xs: List[A], head: A) = xs match\n",
    "    case Nil => sys.error(\"Can't set head for an empty list\")\n",
    "    case Cons(x, xs) => Cons(head, xs)"
   ]
  },
  {
   "cell_type": "code",
   "execution_count": 9,
   "metadata": {},
   "outputs": [
    {
     "data": {
      "text/plain": [
       "\u001b[36mres8\u001b[39m: \u001b[32mList\u001b[39m[\u001b[32mInt\u001b[39m] = \u001b[33mCons\u001b[39m(\n",
       "  head = \u001b[32m4\u001b[39m,\n",
       "  tail = \u001b[33mCons\u001b[39m(head = \u001b[32m2\u001b[39m, tail = \u001b[33mCons\u001b[39m(head = \u001b[32m3\u001b[39m, tail = Nil))\n",
       ")"
      ]
     },
     "execution_count": 9,
     "metadata": {},
     "output_type": "execute_result"
    }
   ],
   "source": [
    "setHead(List(1, 2, 3), 4)"
   ]
  },
  {
   "attachments": {},
   "cell_type": "markdown",
   "metadata": {},
   "source": [
    "#### Exercise 3.4\n",
    "\n",
    "Implement the function `drop`, which removes the first `n` elements from a list. Dropping `n` elements from an empty list should return the empty list. Note that this function takes time proportional only to the number of elements being dropped - we don't need to make a copy of the entire list"
   ]
  },
  {
   "cell_type": "code",
   "execution_count": 10,
   "metadata": {},
   "outputs": [
    {
     "data": {
      "text/plain": [
       "defined \u001b[32mfunction\u001b[39m \u001b[36mdrop\u001b[39m"
      ]
     },
     "execution_count": 10,
     "metadata": {},
     "output_type": "execute_result"
    }
   ],
   "source": [
    "def drop[A](as: List[A], n: Int): List[A] = as match\n",
    "    case Nil => Nil\n",
    "    case Cons(x, xs) if n > 0 => drop(xs, n-1)\n",
    "    case _ => as\n"
   ]
  },
  {
   "cell_type": "code",
   "execution_count": 11,
   "metadata": {},
   "outputs": [
    {
     "data": {
      "text/plain": [
       "\u001b[36mres10\u001b[39m: \u001b[32mList\u001b[39m[\u001b[32mInt\u001b[39m] = \u001b[33mCons\u001b[39m(head = \u001b[32m3\u001b[39m, tail = \u001b[33mCons\u001b[39m(head = \u001b[32m4\u001b[39m, tail = Nil))"
      ]
     },
     "execution_count": 11,
     "metadata": {},
     "output_type": "execute_result"
    }
   ],
   "source": [
    "drop(List(1, 2, 3, 4), 2)"
   ]
  },
  {
   "cell_type": "code",
   "execution_count": 12,
   "metadata": {},
   "outputs": [
    {
     "data": {
      "text/plain": [
       "\u001b[36mres11\u001b[39m: \u001b[32mList\u001b[39m[\u001b[32mInt\u001b[39m] = Nil"
      ]
     },
     "execution_count": 12,
     "metadata": {},
     "output_type": "execute_result"
    }
   ],
   "source": [
    "drop(List(1, 2, 3, 4), 6)"
   ]
  },
  {
   "attachments": {},
   "cell_type": "markdown",
   "metadata": {},
   "source": [
    "#### Exercise 3.5\n",
    "\n",
    "Implement `dropWhile`, which removes elements from the `List` prefix as long as they match a predicate"
   ]
  },
  {
   "cell_type": "code",
   "execution_count": 13,
   "metadata": {},
   "outputs": [
    {
     "data": {
      "text/plain": [
       "defined \u001b[32mfunction\u001b[39m \u001b[36mdropWhile\u001b[39m"
      ]
     },
     "execution_count": 13,
     "metadata": {},
     "output_type": "execute_result"
    }
   ],
   "source": [
    "def dropWhile[A](as: List[A], f: A => Boolean): List[A] = as match\n",
    "    case Nil => Nil\n",
    "    case Cons(x, xs) if f(x) => dropWhile(xs, f)\n",
    "    case _ => as"
   ]
  },
  {
   "cell_type": "code",
   "execution_count": 14,
   "metadata": {},
   "outputs": [
    {
     "data": {
      "text/plain": [
       "\u001b[36mres13\u001b[39m: \u001b[32mList\u001b[39m[\u001b[32mInt\u001b[39m] = \u001b[33mCons\u001b[39m(\n",
       "  head = \u001b[32m7\u001b[39m,\n",
       "  tail = \u001b[33mCons\u001b[39m(head = \u001b[32m9\u001b[39m, tail = \u001b[33mCons\u001b[39m(head = \u001b[32m10\u001b[39m, tail = Nil))\n",
       ")"
      ]
     },
     "execution_count": 14,
     "metadata": {},
     "output_type": "execute_result"
    }
   ],
   "source": [
    "dropWhile(List(2, 4, 6, 7, 9, 10), _ % 2 == 0)"
   ]
  },
  {
   "attachments": {},
   "cell_type": "markdown",
   "metadata": {},
   "source": [
    "#### Exercise 3.6\n",
    "\n",
    "Implement a function, `init`, that returns a `List` consisting of all but the last element of a `List`, so given `List(1, 2, 3, 4)`, `init` will return `List(1, 2, 3)`. Why can't this function be implemented in constant time (that is, runtime that's porportaionl to the size of the list) like tail?"
   ]
  },
  {
   "cell_type": "code",
   "execution_count": 15,
   "metadata": {},
   "outputs": [
    {
     "data": {
      "text/plain": [
       "defined \u001b[32mfunction\u001b[39m \u001b[36minit\u001b[39m"
      ]
     },
     "execution_count": 15,
     "metadata": {},
     "output_type": "execute_result"
    }
   ],
   "source": [
    "def init[A](as: List[A]): List[A] = as match\n",
    "    case Nil => sys.error(\"Can't take init of an empty list\")\n",
    "    case Cons(x, Nil) => Nil\n",
    "    case Cons(x, xs) => Cons(x, init(xs))"
   ]
  },
  {
   "attachments": {},
   "cell_type": "markdown",
   "metadata": {},
   "source": [
    "#### Exercise 3.7\n",
    "\n",
    "Can `product`, implemented using `foldRight`, immediately hal the recursion and return `0.0` if it encounters a `0.0`? Why or why not? Consider how any short circuiting might work if you call `foldRight` with a large list. This is a deeper question, which we'll return to in chapter 5.\n",
    "\n",
    "###### Answer\n",
    "No, it's not possible for two reasons. First, the accumulator value that starts the product doesn't come into effect until we get to the end of the list. Second, there is no third case for short-circuiting in the `foldRight` function.\n"
   ]
  },
  {
   "attachments": {},
   "cell_type": "markdown",
   "metadata": {},
   "source": [
    "#### Exercise 3.8\n",
    "\n",
    "See what happens when you pass `Nil` and `Cons` themselves to `foldRight`, like this: `foldRight(List(1, 2, 3), Nil: List[Int], Cons(_, _))`. What do you think this says about the relationship between `foldRight` and the data constructors of `List`?"
   ]
  },
  {
   "cell_type": "code",
   "execution_count": 16,
   "metadata": {},
   "outputs": [
    {
     "data": {
      "text/plain": [
       "defined \u001b[32mfunction\u001b[39m \u001b[36mfoldRight\u001b[39m\n",
       "\u001b[36mres15_1\u001b[39m: \u001b[32mList\u001b[39m[\u001b[32mInt\u001b[39m] = \u001b[33mCons\u001b[39m(\n",
       "  head = \u001b[32m1\u001b[39m,\n",
       "  tail = \u001b[33mCons\u001b[39m(head = \u001b[32m2\u001b[39m, tail = \u001b[33mCons\u001b[39m(head = \u001b[32m3\u001b[39m, tail = Nil))\n",
       ")"
      ]
     },
     "execution_count": 16,
     "metadata": {},
     "output_type": "execute_result"
    }
   ],
   "source": [
    "def foldRight[A, B](as: List[A], acc: B, f: (A, B) => B): B = \n",
    "    as match\n",
    "        case Nil => acc\n",
    "        case Cons(x, xs) => f(x, foldRight(xs, acc, f))\n",
    "        \n",
    "foldRight(List(1, 2, 3), Nil: List[Int], Cons(_, _))"
   ]
  },
  {
   "attachments": {},
   "cell_type": "markdown",
   "metadata": {},
   "source": [
    "###### Answer\n",
    "\n",
    "The result is the same and suggests that `foldRight` replaces `Nil` with `acc` and `f` with `Cons` in the list."
   ]
  },
  {
   "attachments": {},
   "cell_type": "markdown",
   "metadata": {},
   "source": [
    "#### Exercise 3.9\n",
    "\n",
    "Complete the length of a list using `foldRight`"
   ]
  },
  {
   "cell_type": "code",
   "execution_count": 18,
   "metadata": {},
   "outputs": [
    {
     "data": {
      "text/plain": [
       "defined \u001b[32mfunction\u001b[39m \u001b[36mlength\u001b[39m\n",
       "\u001b[36mres17_1\u001b[39m: \u001b[32mInt\u001b[39m = \u001b[32m3\u001b[39m"
      ]
     },
     "execution_count": 18,
     "metadata": {},
     "output_type": "execute_result"
    }
   ],
   "source": [
    "def length[A](as: List[A]): Int = foldRight(as, 0, (_, len) => len + 1)\n",
    "\n",
    "length(List(1, 2, 3))"
   ]
  },
  {
   "attachments": {},
   "cell_type": "markdown",
   "metadata": {},
   "source": [
    "#### Exercise 3.10\n",
    "\n",
    "Our implementation of `foldRight` is not tail recursive and will result in a `StackoverflowError` for large lists (we say it's not *stack safe*). Convince yourself that this is the case, and then write another general list-recursion, `foldLeft`, that is tail recursive, using the techniques we discussed in the previous chapter. Start collapsing from the lefmost start of the list."
   ]
  },
  {
   "attachments": {},
   "cell_type": "markdown",
   "metadata": {},
   "source": [
    "###### Answer\n",
    "\n",
    "`foldLeft` is not tail recursive, because it calls `f` after making a recursive call, which means the last thing it does is not make a recursive call and therefore cannot be tail optimized."
   ]
  },
  {
   "cell_type": "code",
   "execution_count": 20,
   "metadata": {},
   "outputs": [
    {
     "data": {
      "text/plain": [
       "defined \u001b[32mfunction\u001b[39m \u001b[36mfoldLeft\u001b[39m\n",
       "defined \u001b[32mfunction\u001b[39m \u001b[36msumLeft\u001b[39m\n",
       "\u001b[36mres19_2\u001b[39m: \u001b[32mInt\u001b[39m = \u001b[32m10\u001b[39m"
      ]
     },
     "execution_count": 20,
     "metadata": {},
     "output_type": "execute_result"
    }
   ],
   "source": [
    "def foldLeft[A, B](as: List[A], acc: B, f:(B, A) => B): B =\n",
    "    as match\n",
    "        case Nil => acc\n",
    "        case Cons(x, xs) => foldLeft(xs, f(acc, x), f)\n",
    "\n",
    "def sumLeft(as: List[Int]) = foldLeft(as, 0, _ + _)\n",
    "\n",
    "sumLeft(List(1, 2, 3, 4))"
   ]
  },
  {
   "attachments": {},
   "cell_type": "markdown",
   "metadata": {},
   "source": [
    "#### Exercise 3.11\n",
    "\n",
    "Write `sum`, `product`, and a function to compute the length of a list using `foldLeft`."
   ]
  },
  {
   "cell_type": "code",
   "execution_count": 21,
   "metadata": {},
   "outputs": [
    {
     "data": {
      "text/plain": [
       "defined \u001b[32mfunction\u001b[39m \u001b[36msum\u001b[39m\n",
       "defined \u001b[32mfunction\u001b[39m \u001b[36mproduct\u001b[39m\n",
       "defined \u001b[32mfunction\u001b[39m \u001b[36mlength\u001b[39m"
      ]
     },
     "execution_count": 21,
     "metadata": {},
     "output_type": "execute_result"
    }
   ],
   "source": [
    "def sum(as: List[Int]) = foldLeft(as, 0, _ + _)\n",
    "\n",
    "def product(as: List[Double]) = foldLeft(as, 1.0, _ * _)\n",
    "\n",
    "def length[T](as: List[T]) = foldLeft(as, 0, (acc, _) => acc + 1)"
   ]
  },
  {
   "attachments": {},
   "cell_type": "markdown",
   "metadata": {},
   "source": [
    "#### Exercise 3.12\n",
    "\n",
    "Write a function that returns the reverse of a list (i.e., given `List(1, 2, 3)`, it returns `List(3, 2, 1)`). See if you can write it using a fold."
   ]
  },
  {
   "cell_type": "code",
   "execution_count": 22,
   "metadata": {},
   "outputs": [
    {
     "data": {
      "text/plain": [
       "defined \u001b[32mfunction\u001b[39m \u001b[36mreverse\u001b[39m"
      ]
     },
     "execution_count": 22,
     "metadata": {},
     "output_type": "execute_result"
    }
   ],
   "source": [
    "def reverse[T](as: List[T]): List[T] = foldLeft(as, Nil : List[T], (acc, a) => Cons(a, acc))"
   ]
  },
  {
   "attachments": {},
   "cell_type": "markdown",
   "metadata": {},
   "source": [
    "#### Exercise 3.13\n",
    "\n",
    "*Hard*: Can you write `foldRight` in terms of `foldLeft`? How about the other way around? Implementing `foldRight` via `foldLeft` is useful because it lets us implement `foldRight` tail recursively, which means it works even for large lists without overflowing the stack."
   ]
  },
  {
   "cell_type": "code",
   "execution_count": 23,
   "metadata": {},
   "outputs": [
    {
     "data": {
      "text/plain": [
       "defined \u001b[32mfunction\u001b[39m \u001b[36mfoldRight\u001b[39m"
      ]
     },
     "execution_count": 23,
     "metadata": {},
     "output_type": "execute_result"
    }
   ],
   "source": [
    "def foldRight[A, B](as: List[A], acc: B, f: (A, B) => B): B =\n",
    "    foldLeft(reverse(as), acc, (acc, a) => f(a, acc))"
   ]
  },
  {
   "attachments": {},
   "cell_type": "markdown",
   "metadata": {},
   "source": [
    "#### Exercise 3.14\n",
    "\n",
    "Recall the signature of `append`:\n",
    "\n",
    "```scala\n",
    "def append[A](a1: List[A], a2: List[A]): List[A]\n",
    "```\n",
    "\n",
    "Implement append in terms of either `foldLeft` or `foldRight` instead of structural recursion."
   ]
  },
  {
   "cell_type": "code",
   "execution_count": 24,
   "metadata": {},
   "outputs": [
    {
     "data": {
      "text/plain": [
       "defined \u001b[32mfunction\u001b[39m \u001b[36mappend\u001b[39m"
      ]
     },
     "execution_count": 24,
     "metadata": {},
     "output_type": "execute_result"
    }
   ],
   "source": [
    "def append[A](a1: List[A], a2: List[A]): List[A] =\n",
    "    foldRight(a1, a2, Cons(_, _))"
   ]
  },
  {
   "cell_type": "code",
   "execution_count": 25,
   "metadata": {},
   "outputs": [
    {
     "data": {
      "text/plain": [
       "defined \u001b[32mfunction\u001b[39m \u001b[36mappend\u001b[39m"
      ]
     },
     "execution_count": 25,
     "metadata": {},
     "output_type": "execute_result"
    }
   ],
   "source": [
    "def append[A](a1: List[A], a2: List[A]): List[A] =\n",
    "    foldLeft(reverse(a1), a2, (acc, a) => Cons(a, acc))"
   ]
  },
  {
   "attachments": {},
   "cell_type": "markdown",
   "metadata": {},
   "source": [
    "#### Exercise 3.15\n",
    "\n",
    "Write a function that concatenates a list of lists into a single list. Its runtime should be linear in the total length of all lists. Try to use functions we have already defined."
   ]
  },
  {
   "cell_type": "code",
   "execution_count": 26,
   "metadata": {},
   "outputs": [
    {
     "data": {
      "text/plain": [
       "defined \u001b[32mfunction\u001b[39m \u001b[36mflatten\u001b[39m"
      ]
     },
     "execution_count": 26,
     "metadata": {},
     "output_type": "execute_result"
    }
   ],
   "source": [
    "def flatten[A](xs: List[List[A]]): List[A] =\n",
    "    foldRight(xs, Nil : List[A], append)"
   ]
  },
  {
   "attachments": {},
   "cell_type": "markdown",
   "metadata": {},
   "source": [
    "#### Exercise 3.16\n",
    "\n",
    "Write a function that transforms a list of integers by adding 1 to each element (that is, given a list of integer, it return a new list of integers where each value is one more than the corresponding value in the original list)."
   ]
  },
  {
   "cell_type": "code",
   "execution_count": 28,
   "metadata": {},
   "outputs": [
    {
     "data": {
      "text/plain": [
       "defined \u001b[32mfunction\u001b[39m \u001b[36minc\u001b[39m\n",
       "\u001b[36mres27_1\u001b[39m: \u001b[32mList\u001b[39m[\u001b[32mInt\u001b[39m] = \u001b[33mCons\u001b[39m(\n",
       "  head = \u001b[32m2\u001b[39m,\n",
       "  tail = \u001b[33mCons\u001b[39m(head = \u001b[32m3\u001b[39m, tail = \u001b[33mCons\u001b[39m(head = \u001b[32m4\u001b[39m, tail = Nil))\n",
       ")"
      ]
     },
     "execution_count": 28,
     "metadata": {},
     "output_type": "execute_result"
    }
   ],
   "source": [
    "def inc(xs: List[Int]): List[Int] =\n",
    "    foldRight(xs, Nil : List[Int], (x, acc) => Cons(x + 1, acc))\n",
    "\n",
    "inc(List(1, 2, 3))"
   ]
  },
  {
   "attachments": {},
   "cell_type": "markdown",
   "metadata": {},
   "source": [
    "#### Exercise 3.17\n",
    "\n",
    "Write a function that turns each value in a `List[Double]` into a `String`. You can use the expression `d.toString` to convert some `d: Double` to a `String`."
   ]
  },
  {
   "cell_type": "code",
   "execution_count": 29,
   "metadata": {},
   "outputs": [
    {
     "data": {
      "text/plain": [
       "defined \u001b[32mfunction\u001b[39m \u001b[36mdblsToStrings\u001b[39m"
      ]
     },
     "execution_count": 29,
     "metadata": {},
     "output_type": "execute_result"
    }
   ],
   "source": [
    "def dblsToStrings(ds: List[Double]): List[String] =\n",
    "    foldRight(ds, Nil : List[String], (d, acc) => Cons(d.toString, acc))"
   ]
  },
  {
   "attachments": {},
   "cell_type": "markdown",
   "metadata": {},
   "source": [
    "#### Exercise 3.18\n",
    "\n",
    "Write a function `map`, that generalizes modifying each element in list while maintaining the structure of the list."
   ]
  },
  {
   "cell_type": "code",
   "execution_count": 30,
   "metadata": {},
   "outputs": [
    {
     "data": {
      "text/plain": [
       "defined \u001b[32mfunction\u001b[39m \u001b[36mmap\u001b[39m"
      ]
     },
     "execution_count": 30,
     "metadata": {},
     "output_type": "execute_result"
    }
   ],
   "source": [
    "def map[A, B](as: List[A], f: A => B): List[B] =\n",
    "    foldRight(as, Nil: List[B], (a, acc) => Cons(f(a), acc))"
   ]
  },
  {
   "attachments": {},
   "cell_type": "markdown",
   "metadata": {},
   "source": [
    "Note: it's interesting that in Scala, which has eager evaluation, `map` can't be efficently implemented in a stack safe way functionally. It appears that it is actually implemented in imperatively in the standard library - https://github.com/scala/scala/blob/v2.13.6/src/library/scala/collection/immutable/List.scala#L244"
   ]
  },
  {
   "attachments": {},
   "cell_type": "markdown",
   "metadata": {},
   "source": [
    "\n",
    "#### Exercise 3.19\n",
    "\n",
    "Write a function, `filter`, that removes elements from a list unless they satisfy a given predicate. Use it to remove all odd numbgers form a `List[Int]`."
   ]
  },
  {
   "cell_type": "code",
   "execution_count": 31,
   "metadata": {},
   "outputs": [
    {
     "data": {
      "text/plain": [
       "defined \u001b[32mfunction\u001b[39m \u001b[36mfilter\u001b[39m"
      ]
     },
     "execution_count": 31,
     "metadata": {},
     "output_type": "execute_result"
    }
   ],
   "source": [
    "def filter[A](as: List[A], f: A => Boolean): List[A] =\n",
    "    foldRight(as, Nil : List[A], (a, acc) => if f(a) then Cons(a, acc) else acc)"
   ]
  },
  {
   "attachments": {},
   "cell_type": "markdown",
   "metadata": {},
   "source": [
    "#### Exercise 3.20\n",
    "\n",
    "Write a function, `flatMap`, that works like `map` except that the function given will return a list instead of a single result, ensuring that the list is inserted into the final resulting list."
   ]
  },
  {
   "cell_type": "code",
   "execution_count": 32,
   "metadata": {},
   "outputs": [
    {
     "data": {
      "text/plain": [
       "defined \u001b[32mfunction\u001b[39m \u001b[36mflatMap\u001b[39m"
      ]
     },
     "execution_count": 32,
     "metadata": {},
     "output_type": "execute_result"
    }
   ],
   "source": [
    "def flatMap[A, B](as: List[A], f: A => List[B]): List[B] =\n",
    "    foldRight(as, Nil: List[B], (a, acc) => append(f(a), acc))"
   ]
  },
  {
   "attachments": {},
   "cell_type": "markdown",
   "metadata": {},
   "source": [
    "#### Exercise 3.21\n",
    "\n",
    "Use `flatMap` to impelement `filter`."
   ]
  },
  {
   "cell_type": "code",
   "execution_count": 34,
   "metadata": {},
   "outputs": [
    {
     "data": {
      "text/plain": [
       "defined \u001b[32mfunction\u001b[39m \u001b[36mfilter\u001b[39m\n",
       "\u001b[36mres33_1\u001b[39m: \u001b[32mList\u001b[39m[\u001b[32mInt\u001b[39m] = \u001b[33mCons\u001b[39m(head = \u001b[32m2\u001b[39m, tail = \u001b[33mCons\u001b[39m(head = \u001b[32m3\u001b[39m, tail = Nil))"
      ]
     },
     "execution_count": 34,
     "metadata": {},
     "output_type": "execute_result"
    }
   ],
   "source": [
    "def filter[A](as: List[A], f: A => Boolean): List[A] =\n",
    "    flatMap(as, a => if f(a) then Cons(a, Nil) else Nil)\n",
    "\n",
    "filter(List(1, 2, 3), _ > 1)"
   ]
  },
  {
   "attachments": {},
   "cell_type": "markdown",
   "metadata": {},
   "source": [
    "#### Exercise 3.22\n",
    "\n",
    "Write a function that accepts two lists and constructs a new list by adding corresponding elements. For example, `List(1, 2, 3)` and `List(4, 5, 6)` becomes `List(5, 7, 9)`."
   ]
  },
  {
   "cell_type": "code",
   "execution_count": 36,
   "metadata": {},
   "outputs": [
    {
     "data": {
      "text/plain": [
       "defined \u001b[32mfunction\u001b[39m \u001b[36maddLists\u001b[39m\n",
       "\u001b[36mres35_1\u001b[39m: \u001b[32mList\u001b[39m[\u001b[32mInt\u001b[39m] = \u001b[33mCons\u001b[39m(\n",
       "  head = \u001b[32m5\u001b[39m,\n",
       "  tail = \u001b[33mCons\u001b[39m(head = \u001b[32m7\u001b[39m, tail = \u001b[33mCons\u001b[39m(head = \u001b[32m9\u001b[39m, tail = Nil))\n",
       ")"
      ]
     },
     "execution_count": 36,
     "metadata": {},
     "output_type": "execute_result"
    }
   ],
   "source": [
    "def addLists(a: List[Int], b: List[Int]): List[Int] =\n",
    "    (a, b) match\n",
    "        case (Nil, _) => Nil\n",
    "        case (_, Nil) => Nil\n",
    "        case (Cons(a, as), Cons(b, bs)) => Cons(a + b, addLists(as, bs))\n",
    "\n",
    "addLists(List(1, 2, 3), List(4, 5, 6))"
   ]
  },
  {
   "attachments": {},
   "cell_type": "markdown",
   "metadata": {},
   "source": [
    "### Exercise 3.23\n",
    "\n",
    "Generalize the function you just wrote so it's not specific to integers or addition."
   ]
  },
  {
   "cell_type": "code",
   "execution_count": 39,
   "metadata": {},
   "outputs": [
    {
     "data": {
      "text/plain": [
       "defined \u001b[32mfunction\u001b[39m \u001b[36mzipWith\u001b[39m\n",
       "defined \u001b[32mfunction\u001b[39m \u001b[36maddLists\u001b[39m\n",
       "\u001b[36mres38_2\u001b[39m: \u001b[32mList\u001b[39m[\u001b[32mInt\u001b[39m] = \u001b[33mCons\u001b[39m(\n",
       "  head = \u001b[32m5\u001b[39m,\n",
       "  tail = \u001b[33mCons\u001b[39m(head = \u001b[32m7\u001b[39m, tail = \u001b[33mCons\u001b[39m(head = \u001b[32m9\u001b[39m, tail = Nil))\n",
       ")"
      ]
     },
     "execution_count": 39,
     "metadata": {},
     "output_type": "execute_result"
    }
   ],
   "source": [
    "def zipWith[A, B, C](as: List[A], bs: List[B], f: (A, B) => C): List[C] =\n",
    "    (as, bs) match\n",
    "        case (Nil, _) => Nil\n",
    "        case (_, Nil) => Nil\n",
    "        case (Cons(a, as), Cons(b, bs)) => Cons(f(a, b), zipWith(as, bs, f))\n",
    "\n",
    "\n",
    "def addLists(a: List[Int], b: List[Int]): List[Int] = zipWith(a, b, _ + _)\n",
    "addLists(List(1, 2, 3), List(4, 5, 6))"
   ]
  },
  {
   "attachments": {},
   "cell_type": "markdown",
   "metadata": {},
   "source": [
    "#### Exercise 3.24\n",
    "\n",
    "*Hard*: Implement `hasSubsequence` to check whether a `List` contains another `List` as a subsequence. For instance, `List(1, 2, 3, 4)` would have `List(1, 2)` and `List(2, 3)` and `List(4)` as subsequences, among others. You may have some difficulty finding a concise a purely functional implementation that is also efficent."
   ]
  },
  {
   "cell_type": "code",
   "execution_count": 83,
   "metadata": {},
   "outputs": [
    {
     "data": {
      "text/plain": [
       "defined \u001b[32mfunction\u001b[39m \u001b[36mprefixesMatch\u001b[39m\n",
       "defined \u001b[32mfunction\u001b[39m \u001b[36mhasSubsequence\u001b[39m\n",
       "\u001b[36mres82_2\u001b[39m: \u001b[32mBoolean\u001b[39m = \u001b[32mfalse\u001b[39m"
      ]
     },
     "execution_count": 83,
     "metadata": {},
     "output_type": "execute_result"
    }
   ],
   "source": [
    "def prefixesMatch[A](xs: List[A], ys: List[A]): Boolean =\n",
    "    (xs, ys) match\n",
    "        case (_, Nil) => true\n",
    "        case (Nil, _) => false\n",
    "        case (Cons(a, as), Cons(b, bs)) if a == b => prefixesMatch(as, bs)\n",
    "        case _ => false\n",
    "\n",
    "def hasSubsequence[A](sup: List[A], sub: List[A]): Boolean =\n",
    "    (sup, sub) match\n",
    "        case (_, Nil) => true\n",
    "        case (Nil, _) => false\n",
    "        case (Cons(a, as), Cons(b, bs)) if a == b => prefixesMatch(as, bs)\n",
    "        case (Cons(a, as), _) => hasSubsequence(as, sub)\n",
    "\n",
    "hasSubsequence(List(1, 2, 3, 4), List(1, 4))\n",
    "\n"
   ]
  },
  {
   "attachments": {},
   "cell_type": "markdown",
   "metadata": {},
   "source": [
    "#### Exercise 3.25\n",
    "\n",
    "Write a function, `maximum`, that returns the maximum element in a Tree[Int]. (Note that in Scala you can use `x.max(y)` to compute the maximum of two integers `x` and `y`.)"
   ]
  },
  {
   "cell_type": "code",
   "execution_count": 84,
   "metadata": {},
   "outputs": [
    {
     "data": {
      "text/plain": [
       "defined \u001b[32mclass\u001b[39m \u001b[36mTree\u001b[39m\n",
       "defined \u001b[32mfunction\u001b[39m \u001b[36mmaximum\u001b[39m"
      ]
     },
     "execution_count": 84,
     "metadata": {},
     "output_type": "execute_result"
    }
   ],
   "source": [
    "enum Tree[+A]:\n",
    "    case Leaf(value: A)\n",
    "    case Branch(left: Tree[A], right: Tree[A])\n",
    "\n",
    "    def size: Int = this match\n",
    "        case Leaf(_) => 1\n",
    "        case Branch(l, r) => 1 + l.size + r.size\n",
    "\n",
    "def maximum(t: Tree[Int]): Int =\n",
    "    t match\n",
    "        case Tree.Leaf(a) => a\n",
    "        case Tree.Branch(l, r) => maximum(l).max(maximum(r))"
   ]
  },
  {
   "attachments": {},
   "cell_type": "markdown",
   "metadata": {},
   "source": [
    "#### Exercise 3.26\n",
    "\n",
    "Write a function, `depth`, that returns the maximum path length from the root of the tree to any leaf."
   ]
  },
  {
   "cell_type": "code",
   "execution_count": 85,
   "metadata": {},
   "outputs": [
    {
     "data": {
      "text/plain": [
       "defined \u001b[32mfunction\u001b[39m \u001b[36mdepth\u001b[39m"
      ]
     },
     "execution_count": 85,
     "metadata": {},
     "output_type": "execute_result"
    }
   ],
   "source": [
    "def depth[A](t: Tree[A]): Int =\n",
    "    t match\n",
    "        case Tree.Leaf(_) => 1\n",
    "        case Tree.Branch(l, r) => 1 + depth(l).max(depth(r))"
   ]
  },
  {
   "attachments": {},
   "cell_type": "markdown",
   "metadata": {},
   "source": [
    "#### Exercise 3.27\n",
    "\n",
    "Write a function, `map`, analogous to the method of the same name on `List` that modifies each element in a tree with a given function."
   ]
  },
  {
   "cell_type": "code",
   "execution_count": 86,
   "metadata": {},
   "outputs": [
    {
     "data": {
      "text/plain": [
       "defined \u001b[32mclass\u001b[39m \u001b[36mTree\u001b[39m"
      ]
     },
     "execution_count": 86,
     "metadata": {},
     "output_type": "execute_result"
    }
   ],
   "source": [
    "enum Tree[+A]:\n",
    "    case Leaf(value: A)\n",
    "    case Branch(left: Tree[A], right: Tree[A])\n",
    "\n",
    "    def size: Int = this match\n",
    "        case Leaf(_) => 1\n",
    "        case Branch(l, r) => 1 + l.size + r.size\n",
    "\n",
    "    def map[B](f: A => B): Tree[B] =\n",
    "        this match\n",
    "            case Leaf(a) => Leaf(f(a))\n",
    "            case Branch(l, r) => Branch(l.map(f), r.map(f))"
   ]
  },
  {
   "attachments": {},
   "cell_type": "markdown",
   "metadata": {},
   "source": [
    "#### Exercise 3.28\n",
    "\n",
    "Generize `size`, `maximum`, `depth`, `map` write a new function, `fold`, that abstracts over their similarities. Reimplement them in terms of this more general function. Can you draw an analogy between this `fold` function and the left and right folds for `List`?"
   ]
  },
  {
   "cell_type": "code",
   "execution_count": 94,
   "metadata": {},
   "outputs": [
    {
     "data": {
      "text/plain": [
       "defined \u001b[32mclass\u001b[39m \u001b[36mTree\u001b[39m\n",
       "\u001b[32mimport \u001b[39m\u001b[36mTree.*\n",
       "\u001b[39m"
      ]
     },
     "execution_count": 94,
     "metadata": {},
     "output_type": "execute_result"
    }
   ],
   "source": [
    "enum Tree[+A]:\n",
    "    case Leaf(value: A)\n",
    "    case Branch(left: Tree[A], right: Tree[A])\n",
    "\n",
    "    def fold[B](f: A => B, merge: (B, B) => B): B =\n",
    "        this match\n",
    "            case Leaf(a) => f(a)\n",
    "            case Branch(l, r) => merge(l.fold(f, merge), r.fold(f, merge))\n",
    "\n",
    "    def size: Int = fold(_ => 1, _ + _ + 1)\n",
    "\n",
    "    def depth: Int = fold(_ => 0, _ max _ + 1)\n",
    "\n",
    "    def map[B](f: A => B): Tree[B] = fold(a => Leaf(f(a)), (l, r) => Branch(l, r))\n",
    "\n",
    "import Tree.*"
   ]
  },
  {
   "cell_type": "code",
   "execution_count": 95,
   "metadata": {},
   "outputs": [
    {
     "data": {
      "text/plain": [
       "\u001b[36mtree\u001b[39m: \u001b[32mTree\u001b[39m[\u001b[32mInt\u001b[39m] = \u001b[33mBranch\u001b[39m(\n",
       "  left = \u001b[33mBranch\u001b[39m(left = \u001b[33mLeaf\u001b[39m(value = \u001b[32m1\u001b[39m), right = \u001b[33mLeaf\u001b[39m(value = \u001b[32m2\u001b[39m)),\n",
       "  right = \u001b[33mBranch\u001b[39m(left = \u001b[33mLeaf\u001b[39m(value = \u001b[32m3\u001b[39m), right = \u001b[33mLeaf\u001b[39m(value = \u001b[32m4\u001b[39m))\n",
       ")\n",
       "\u001b[36mres94_1\u001b[39m: \u001b[32mInt\u001b[39m = \u001b[32m7\u001b[39m\n",
       "\u001b[36mres94_2\u001b[39m: \u001b[32mInt\u001b[39m = \u001b[32m2\u001b[39m\n",
       "\u001b[36mres94_3\u001b[39m: \u001b[32mTree\u001b[39m[\u001b[32mInt\u001b[39m] = \u001b[33mBranch\u001b[39m(\n",
       "  left = \u001b[33mBranch\u001b[39m(left = \u001b[33mLeaf\u001b[39m(value = \u001b[32m2\u001b[39m), right = \u001b[33mLeaf\u001b[39m(value = \u001b[32m3\u001b[39m)),\n",
       "  right = \u001b[33mBranch\u001b[39m(left = \u001b[33mLeaf\u001b[39m(value = \u001b[32m4\u001b[39m), right = \u001b[33mLeaf\u001b[39m(value = \u001b[32m5\u001b[39m))\n",
       ")"
      ]
     },
     "execution_count": 95,
     "metadata": {},
     "output_type": "execute_result"
    }
   ],
   "source": [
    "val tree = Branch(Branch(Leaf(1), Leaf(2)),\n",
    "                  Branch(Leaf(3), Leaf(4)))\n",
    "\n",
    "tree.size\n",
    "tree.depth\n",
    "tree.map(_ + 1)"
   ]
  },
  {
   "cell_type": "code",
   "execution_count": null,
   "metadata": {},
   "outputs": [],
   "source": []
  }
 ],
 "metadata": {
  "kernelspec": {
   "display_name": "Scala",
   "language": "scala",
   "name": "scala"
  },
  "language_info": {
   "codemirror_mode": "text/x-scala",
   "file_extension": ".sc",
   "mimetype": "text/x-scala",
   "name": "scala",
   "nbconvert_exporter": "script",
   "version": "2.13.10"
  },
  "orig_nbformat": 4
 },
 "nbformat": 4,
 "nbformat_minor": 2
}
