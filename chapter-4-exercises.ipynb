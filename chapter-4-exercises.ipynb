{
 "cells": [
  {
   "attachments": {},
   "cell_type": "markdown",
   "metadata": {},
   "source": [
    "#### Exercise 4.1\n",
    "\n",
    "Implement all the proceeding functions of `Option`."
   ]
  },
  {
   "cell_type": "code",
   "execution_count": 1,
   "metadata": {},
   "outputs": [
    {
     "data": {
      "text/plain": [
       "defined \u001b[32mclass\u001b[39m \u001b[36mOption\u001b[39m"
      ]
     },
     "execution_count": 1,
     "metadata": {},
     "output_type": "execute_result"
    }
   ],
   "source": [
    "enum Option[+A]:\n",
    "    case Some(get: A)\n",
    "    case None\n",
    "\n",
    "    def map[B] (f: A => B): Option[B] =\n",
    "        this match\n",
    "            case Some(a) => Some(f(a))\n",
    "            case None => None\n",
    "\n",
    "    def flatMap[B] (f: A => Option[B]): Option[B] =\n",
    "        this.map(f).getOrElse(None)\n",
    "\n",
    "    def getOrElse[B >: A](default: => B): B =\n",
    "        this match\n",
    "            case Some(a) => a\n",
    "            case None => default\n",
    "\n",
    "    def orElse[B >: A](ob: => Option[B]): Option[B] =\n",
    "        this.map(a => Some(a)).getOrElse(ob)\n",
    "\n",
    "    def filter(f: A => Boolean): Option[A] =\n",
    "        if this.map(f).getOrElse(false) then this else None"
   ]
  },
  {
   "cell_type": "code",
   "execution_count": 2,
   "metadata": {},
   "outputs": [
    {
     "data": {
      "text/plain": [
       "\u001b[36mres1\u001b[39m: \u001b[32mOption\u001b[39m[\u001b[32mInt\u001b[39m] = \u001b[32mNone\u001b[39m"
      ]
     },
     "execution_count": 2,
     "metadata": {},
     "output_type": "execute_result"
    }
   ],
   "source": [
    "Some(1).filter(_ > 1)"
   ]
  },
  {
   "attachments": {},
   "cell_type": "markdown",
   "metadata": {},
   "source": [
    "#### Exercise 4.2\n",
    "\n",
    "Implement the `variance` function in terms of `flatMap`. If the means of a sequence is `m`, the variance is the mean of `math.pow(x - m, 2)` for each element in the sequence."
   ]
  },
  {
   "cell_type": "code",
   "execution_count": 3,
   "metadata": {},
   "outputs": [
    {
     "data": {
      "text/plain": [
       "\u001b[32mimport \u001b[39m\u001b[36mOption.*\n",
       "\n",
       "\u001b[39m\n",
       "defined \u001b[32mfunction\u001b[39m \u001b[36mmean\u001b[39m\n",
       "defined \u001b[32mfunction\u001b[39m \u001b[36mvariance\u001b[39m"
      ]
     },
     "execution_count": 3,
     "metadata": {},
     "output_type": "execute_result"
    }
   ],
   "source": [
    "import Option.*\n",
    "\n",
    "def mean(xs: Seq[Double]): Option[Double] =\n",
    "    if !xs.isEmpty then Some(xs.sum / xs.length) else None\n",
    "\n",
    "def variance(xs: Seq[Double]): Option[Double] =\n",
    "    mean(xs)\n",
    "        .map(m => xs.map(x => math.pow(x - m, 2)))\n",
    "        .flatMap(xs => mean(xs))\n"
   ]
  },
  {
   "attachments": {},
   "cell_type": "markdown",
   "metadata": {},
   "source": [
    "#### Exercise 4.3\n",
    "\n",
    "Write a generic function `map2` that combines two `Option` values using a binary function. It either `Option` value is `None`, then the return value is too."
   ]
  },
  {
   "cell_type": "code",
   "execution_count": 4,
   "metadata": {},
   "outputs": [
    {
     "data": {
      "text/plain": [
       "defined \u001b[32mfunction\u001b[39m \u001b[36mmap2\u001b[39m"
      ]
     },
     "execution_count": 4,
     "metadata": {},
     "output_type": "execute_result"
    }
   ],
   "source": [
    "def map2[A, B, C](a: Option[A], b: Option[B])(f: (A, B) => C): Option[C] =\n",
    "    a.flatMap(a => b.flatMap(b => Some(f(a, b))))"
   ]
  },
  {
   "cell_type": "code",
   "execution_count": 5,
   "metadata": {},
   "outputs": [
    {
     "data": {
      "text/plain": [
       "\u001b[36mres4_0\u001b[39m: \u001b[32mOption\u001b[39m[\u001b[32mInt\u001b[39m] = \u001b[33mSome\u001b[39m(get = \u001b[32m3\u001b[39m)\n",
       "\u001b[36mres4_1\u001b[39m: \u001b[32mOption\u001b[39m[\u001b[32mInt\u001b[39m] = None"
      ]
     },
     "execution_count": 5,
     "metadata": {},
     "output_type": "execute_result"
    }
   ],
   "source": [
    "map2(Some(1), Some(2))(_ + _)\n",
    "map2(Some(1), None : Option[Int])(_ + _)"
   ]
  },
  {
   "attachments": {},
   "cell_type": "markdown",
   "metadata": {},
   "source": [
    "#### Exercise 4.4\n",
    "\n",
    "Write a function `sequence` that combines a list of `Options` into one `Option` containing a list of all the `Some` values in the original list. If the original list contains `None` even once, the result of the function should be `None`; otherwise, the result should be `Some`, with a list of all the values."
   ]
  },
  {
   "cell_type": "code",
   "execution_count": 12,
   "metadata": {},
   "outputs": [
    {
     "data": {
      "text/plain": [
       "defined \u001b[32mfunction\u001b[39m \u001b[36msequence\u001b[39m"
      ]
     },
     "execution_count": 12,
     "metadata": {},
     "output_type": "execute_result"
    }
   ],
   "source": [
    "def sequence[A](as: List[Option[A]]): Option[List[A]] =\n",
    "    as.foldLeft (Some(List()): Option[List[A]]) (map2(_, _)((bs, a) => a :: bs))\n"
   ]
  },
  {
   "cell_type": "code",
   "execution_count": 14,
   "metadata": {},
   "outputs": [
    {
     "data": {
      "text/plain": [
       "\u001b[36mres13_0\u001b[39m: \u001b[32mOption\u001b[39m[\u001b[32mList\u001b[39m[\u001b[32mInt\u001b[39m]] = \u001b[33mSome\u001b[39m(get = \u001b[33mList\u001b[39m(\u001b[32m3\u001b[39m, \u001b[32m2\u001b[39m, \u001b[32m1\u001b[39m))\n",
       "\u001b[36mres13_1\u001b[39m: \u001b[32mOption\u001b[39m[\u001b[32mList\u001b[39m[\u001b[32mInt\u001b[39m]] = None"
      ]
     },
     "execution_count": 14,
     "metadata": {},
     "output_type": "execute_result"
    }
   ],
   "source": [
    "sequence(List(Some(1), Some(2), Some(3)))\n",
    "sequence(List(Some(1), None, Some(3)))"
   ]
  },
  {
   "attachments": {},
   "cell_type": "markdown",
   "metadata": {},
   "source": [
    "#### Exercise 4.5\n",
    "\n",
    "Implement the function `traverse`. It's straightforward to do using `map` and `sequence`, but try for a more efficent implementation that only looks at the list once. In fact, implement `sequence` in terms of `traverse`."
   ]
  },
  {
   "cell_type": "code",
   "execution_count": 17,
   "metadata": {},
   "outputs": [
    {
     "data": {
      "text/plain": [
       "defined \u001b[32mfunction\u001b[39m \u001b[36mtraverse\u001b[39m\n",
       "defined \u001b[32mfunction\u001b[39m \u001b[36msequence\u001b[39m"
      ]
     },
     "execution_count": 17,
     "metadata": {},
     "output_type": "execute_result"
    }
   ],
   "source": [
    "def traverse[A, B](as: List[A])(f: A => Option[B]): Option[List[B]] =\n",
    "    as.foldRight[Option[List[B]]](Some(Nil))((a, bs) => map2(f(a), bs)(_ :: _))\n",
    "\n",
    "def sequence[A](as: List[Option[A]]): Option[List[A]] =\n",
    "    traverse(as)(identity)"
   ]
  },
  {
   "cell_type": "code",
   "execution_count": 19,
   "metadata": {},
   "outputs": [
    {
     "data": {
      "text/plain": [
       "defined \u001b[32mfunction\u001b[39m \u001b[36mtoIntOption\u001b[39m\n",
       "\u001b[36mres18_1\u001b[39m: \u001b[32mOption\u001b[39m[\u001b[32mList\u001b[39m[\u001b[32mInt\u001b[39m]] = \u001b[33mSome\u001b[39m(get = \u001b[33mList\u001b[39m(\u001b[32m1\u001b[39m, \u001b[32m2\u001b[39m))\n",
       "\u001b[36mres18_2\u001b[39m: \u001b[32mOption\u001b[39m[\u001b[32mList\u001b[39m[\u001b[32mInt\u001b[39m]] = None"
      ]
     },
     "execution_count": 19,
     "metadata": {},
     "output_type": "execute_result"
    }
   ],
   "source": [
    "def toIntOption(s: String): Option[Int] =\n",
    "    try Some(s.toInt)\n",
    "    catch case _ : NumberFormatException => None\n",
    "\n",
    "traverse(List(\"1\", \"2\"))(toIntOption)\n",
    "traverse(List(\"1\", \"a\"))(toIntOption)"
   ]
  },
  {
   "cell_type": "code",
   "execution_count": 20,
   "metadata": {},
   "outputs": [
    {
     "data": {
      "text/plain": [
       "\u001b[36mres19_0\u001b[39m: \u001b[32mOption\u001b[39m[\u001b[32mList\u001b[39m[\u001b[32mInt\u001b[39m]] = \u001b[33mSome\u001b[39m(get = \u001b[33mList\u001b[39m(\u001b[32m1\u001b[39m, \u001b[32m2\u001b[39m, \u001b[32m3\u001b[39m))\n",
       "\u001b[36mres19_1\u001b[39m: \u001b[32mOption\u001b[39m[\u001b[32mList\u001b[39m[\u001b[32mInt\u001b[39m]] = None"
      ]
     },
     "execution_count": 20,
     "metadata": {},
     "output_type": "execute_result"
    }
   ],
   "source": [
    "sequence(List(Some(1), Some(2), Some(3)))\n",
    "sequence(List(Some(1), None, Some(3)))"
   ]
  },
  {
   "attachments": {},
   "cell_type": "markdown",
   "metadata": {},
   "source": [
    "#### Exercise 4.6\n",
    "\n",
    "Implement versions of `map`, `flatMap`, `orElse`, and `map2` on `Either` that operate on the `Right` value."
   ]
  },
  {
   "cell_type": "code",
   "execution_count": 3,
   "metadata": {},
   "outputs": [
    {
     "data": {
      "text/plain": [
       "defined \u001b[32mclass\u001b[39m \u001b[36mEither\u001b[39m\n",
       "\u001b[32mimport \u001b[39m\u001b[36mscala.util.control.NonFatal\n",
       "\n",
       "\u001b[39m\n",
       "defined \u001b[32mobject\u001b[39m \u001b[36mEither\u001b[39m"
      ]
     },
     "execution_count": 3,
     "metadata": {},
     "output_type": "execute_result"
    }
   ],
   "source": [
    "enum Either[+E, +A]:\n",
    "    case Left(value: E)\n",
    "    case Right(value: A)\n",
    "\n",
    "    def map[B](f: A => B): Either[E, B] = this match\n",
    "        case Right(a) => Right(f(a))\n",
    "        case Left(e) => Left(e)\n",
    "    \n",
    "    def flatMap[EE >: E, B](f: A => Either[EE, B]): Either[EE, B] = this match\n",
    "        case Right(a) => f(a)\n",
    "        case Left(e) => Left(e)\n",
    "\n",
    "    def orElse[EE >: E, B >: A](b: => Either[EE, B]): Either[EE, B] = this match\n",
    "        case Left(_) => b\n",
    "        case _ => this\n",
    "    \n",
    "    def map2[EE >: E, B, C](that: Either[EE, B])(f: (A, B) => C): Either[EE, C] =\n",
    "        this.flatMap(a => that.map(b => f(a, b)))\n",
    "\n",
    "\n",
    "import scala.util.control.NonFatal\n",
    "\n",
    "object Either:\n",
    "    def catchNonFatal[A](a: => A): Either[Throwable, A] =\n",
    "        try Right(a)\n",
    "        catch case NonFatal(t) => Left(t)"
   ]
  },
  {
   "attachments": {},
   "cell_type": "markdown",
   "metadata": {},
   "source": [
    "#### Exercise 4.7\n",
    "\n",
    "Implement `sequence` and `traverse` for `Either`. These should return the first error that's encountered if there is one:"
   ]
  },
  {
   "cell_type": "code",
   "execution_count": 5,
   "metadata": {},
   "outputs": [
    {
     "data": {
      "text/plain": [
       "\u001b[32mimport \u001b[39m\u001b[36mEither.*\n",
       "\n",
       "\u001b[39m\n",
       "defined \u001b[32mfunction\u001b[39m \u001b[36mtraverse\u001b[39m\n",
       "defined \u001b[32mfunction\u001b[39m \u001b[36msequence\u001b[39m"
      ]
     },
     "execution_count": 5,
     "metadata": {},
     "output_type": "execute_result"
    }
   ],
   "source": [
    "import Either.*\n",
    "\n",
    "def traverse[E, A, B](as: List[A])(f: A => Either[E, B]): Either[E, List[B]] =\n",
    "    as.foldRight[Either[E, List[B]]](Right(Nil))(f(_).map2(_)(_ :: _))\n",
    "\n",
    "def sequence[E, A](as: List[Either[E, A]]): Either[E, List[A]] =\n",
    "    traverse(as)(identity)\n"
   ]
  },
  {
   "attachments": {},
   "cell_type": "markdown",
   "metadata": {},
   "source": [
    "#### Note\n",
    "\n",
    "It is interesting to see how the implementation of `map`, `flatMap`, `orElse` and `map2` are so similar between `Option` and `Either`. And, to see how the impementations of `traverse` are nearly identical and that `sequence` is in fact the same.\n",
    "\n",
    "It is also interesting to note how closely related `lift` and `map2` are that there are hints that additional machinery is required to thread the two more generally.\n",
    "\n",
    "Given, how closely related the implementation of `map2` and `traverse` are, I wonder what similar concepts for `List` would mean or even look like."
   ]
  },
  {
   "cell_type": "code",
   "execution_count": null,
   "metadata": {},
   "outputs": [],
   "source": []
  }
 ],
 "metadata": {
  "kernelspec": {
   "display_name": "Scala",
   "language": "scala",
   "name": "scala"
  },
  "language_info": {
   "codemirror_mode": "text/x-scala",
   "file_extension": ".sc",
   "mimetype": "text/x-scala",
   "name": "scala",
   "nbconvert_exporter": "script",
   "version": "2.13.10"
  },
  "orig_nbformat": 4
 },
 "nbformat": 4,
 "nbformat_minor": 2
}
