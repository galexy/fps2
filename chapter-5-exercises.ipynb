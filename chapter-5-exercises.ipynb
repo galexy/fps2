{
 "cells": [
  {
   "attachments": {},
   "cell_type": "markdown",
   "metadata": {},
   "source": [
    "#### Exercise 5.1\n",
    "\n",
    "Write a function to convert `LazyList` to a `List`, which will force its evaluatio and let you look at in the REPL. You can convert to the regular `List` type in the standard library, and you can place this and other functions that operate on a `LazyList` inside the `LazyList` enum."
   ]
  },
  {
   "attachments": {},
   "cell_type": "markdown",
   "metadata": {},
   "source": [
    "#### Exercise 5.2\n",
    "\n",
    "Write the function `take(n)` for returning the first `n` elements of a `LazyList` and `drop(n)` for skipping the first `n` elements of a `LazyList`. Define these functions inside `LazyList` enum."
   ]
  },
  {
   "attachments": {},
   "cell_type": "markdown",
   "metadata": {},
   "source": [
    "#### Exercise 5.3\n",
    "\n",
    "Write the function `takeWhile` for returning all starting elements of a `LazyList` that match the given predicate."
   ]
  },
  {
   "cell_type": "code",
   "execution_count": 1,
   "metadata": {},
   "outputs": [
    {
     "data": {
      "text/plain": [
       "defined \u001b[32mclass\u001b[39m \u001b[36mLazyList\u001b[39m\n",
       "defined \u001b[32mobject\u001b[39m \u001b[36mLazyList\u001b[39m"
      ]
     },
     "execution_count": 1,
     "metadata": {},
     "output_type": "execute_result"
    }
   ],
   "source": [
    "enum LazyList[+A]:\n",
    "    case Empty\n",
    "    case Cons(h: () => A, t: () => LazyList[A])\n",
    "\n",
    "    def toList: List[A] = this match\n",
    "        case Empty => Nil\n",
    "        case Cons(h, t) => h() :: t().toList\n",
    "\n",
    "    def take(n: Int): LazyList[A] = this match\n",
    "        case Cons(h, t) if n > 0 => Cons(() => h(), () => t().take(n-1))\n",
    "        case _ => LazyList.empty\n",
    "\n",
    "    def drop(n: Int): LazyList[A] = this match\n",
    "        case Cons(h, t) if n > 0 => t().drop(n-1)\n",
    "        case Cons(h, t) => Cons(() => h(), () => t())\n",
    "        case _ => LazyList.empty\n",
    "\n",
    "    def takeWhile(p: A => Boolean): LazyList[A] = this match\n",
    "        case Cons(h, t) if p(h()) => LazyList.cons(h(), t().takeWhile(p))\n",
    "        case _ => LazyList.empty\n",
    "\n",
    "object LazyList:\n",
    "    def cons[A](\n",
    "        hd: => A, tl: => LazyList[A]\n",
    "    ): LazyList[A] =\n",
    "        lazy val head = hd\n",
    "        lazy val tail = tl\n",
    "        Cons(() => head, () => tail)\n",
    "\n",
    "    def empty[A]: LazyList[A] = Empty\n",
    "\n",
    "    def apply[A](as: A*): LazyList[A] =\n",
    "        if as.isEmpty then empty\n",
    "        else cons(as.head, apply(as.tail*))"
   ]
  },
  {
   "attachments": {},
   "cell_type": "markdown",
   "metadata": {},
   "source": [
    "The answers in the books give better implementation that are both more efficent and tail recursive."
   ]
  },
  {
   "cell_type": "code",
   "execution_count": 2,
   "metadata": {},
   "outputs": [
    {
     "data": {
      "text/plain": [
       "defined \u001b[32mclass\u001b[39m \u001b[36mLazyList\u001b[39m\n",
       "defined \u001b[32mobject\u001b[39m \u001b[36mLazyList\u001b[39m"
      ]
     },
     "execution_count": 2,
     "metadata": {},
     "output_type": "execute_result"
    }
   ],
   "source": [
    "enum LazyList[+A]:\n",
    "    case Empty\n",
    "    case Cons(h: () => A, t: () => LazyList[A])\n",
    "\n",
    "    def toList: List[A] =\n",
    "        @annotation.tailrec\n",
    "        def go(ll: LazyList[A], acc: List[A]): List[A] = \n",
    "            ll match\n",
    "                case Cons(h, t) => go(t(), h() :: acc)\n",
    "                case Empty => acc.reverse\n",
    "        go(this, Nil)\n",
    "\n",
    "    def take(n: Int): LazyList[A] = this match\n",
    "        case Cons(h, t) if n > 1 => LazyList.cons(h(), t().take(n-1))\n",
    "        case Cons(h, _) if n == 1 => LazyList.cons(h(), LazyList.empty)\n",
    "        case _ => LazyList.empty\n",
    "\n",
    "    @annotation.tailrec\n",
    "    final def drop(n: Int): LazyList[A] = this match\n",
    "        case Cons(h, t) if n > 0 => t().drop(n-1)\n",
    "        case _ => this\n",
    "\n",
    "object LazyList:\n",
    "    def cons[A](\n",
    "        hd: => A, tl: => LazyList[A]\n",
    "    ): LazyList[A] =\n",
    "        lazy val head = hd\n",
    "        lazy val tail = tl\n",
    "        Cons(() => head, () => tail)\n",
    "\n",
    "    def empty[A]: LazyList[A] = Empty\n",
    "\n",
    "    def apply[A](as: A*): LazyList[A] =\n",
    "        if as.isEmpty then empty\n",
    "        else cons(as.head, apply(as.tail*))"
   ]
  },
  {
   "cell_type": "code",
   "execution_count": 3,
   "metadata": {},
   "outputs": [
    {
     "data": {
      "text/plain": [
       "\u001b[32mimport \u001b[39m\u001b[36mLazyList.*\n",
       "\n",
       "\u001b[39m\n",
       "\u001b[36mres2_1\u001b[39m: \u001b[32mList\u001b[39m[\u001b[32mInt\u001b[39m] = \u001b[33mList\u001b[39m(\u001b[32m1\u001b[39m, \u001b[32m2\u001b[39m)"
      ]
     },
     "execution_count": 3,
     "metadata": {},
     "output_type": "execute_result"
    }
   ],
   "source": [
    "import LazyList.*\n",
    "\n",
    "LazyList(1, 2, 3).take(2).toList"
   ]
  },
  {
   "cell_type": "code",
   "execution_count": 4,
   "metadata": {},
   "outputs": [
    {
     "data": {
      "text/plain": [
       "defined \u001b[32mextension methods\u001b[39m \n",
       "\u001b[36mres3_1\u001b[39m: \u001b[32mBoolean\u001b[39m = \u001b[32mtrue\u001b[39m"
      ]
     },
     "execution_count": 4,
     "metadata": {},
     "output_type": "execute_result"
    }
   ],
   "source": [
    "extension [A](ll: LazyList[A])\n",
    "    def foldRight[B](acc: => B)(f: (A, => B) => B): B =\n",
    "        ll match\n",
    "            case Cons(h, t) => f(h(), t().foldRight(acc)(f))\n",
    "            case _ => acc\n",
    "\n",
    "    def exists(p: A => Boolean): Boolean =\n",
    "        ll.foldRight(false)((a: A, b) => p(a) || b)\n",
    "\n",
    "LazyList(1, 2, 3).exists(_ > 0)"
   ]
  },
  {
   "attachments": {},
   "cell_type": "markdown",
   "metadata": {},
   "source": [
    "#### Exercise 5.4\n",
    "\n",
    "Implement `forAll`, which checks that all elements in the `LazyList` match a given predicate. Your implementation should terminate the traversal as soon as it encounters a nonmatching value."
   ]
  },
  {
   "cell_type": "code",
   "execution_count": 7,
   "metadata": {},
   "outputs": [
    {
     "data": {
      "text/plain": [
       "defined \u001b[32mextension methods\u001b[39m \n",
       "\u001b[36mres6_1\u001b[39m: \u001b[32mBoolean\u001b[39m = \u001b[32mtrue\u001b[39m"
      ]
     },
     "execution_count": 7,
     "metadata": {},
     "output_type": "execute_result"
    }
   ],
   "source": [
    "extension [A](ll: LazyList[A])\n",
    "    def forAll(p: A => Boolean): Boolean =\n",
    "        ll.foldRight(true)((a, b) => p(a) && b)\n",
    "\n",
    "LazyList(2, 4, 6).forAll(_ % 2 == 0)"
   ]
  },
  {
   "cell_type": "code",
   "execution_count": 13,
   "metadata": {},
   "outputs": [
    {
     "data": {
      "text/plain": [
       "defined \u001b[32mextension methods\u001b[39m "
      ]
     },
     "execution_count": 13,
     "metadata": {},
     "output_type": "execute_result"
    }
   ],
   "source": [
    "extension [A](ll: LazyList[A])\n",
    "    def takeWhile(p: A => Boolean): LazyList[A] =\n",
    "        ll.foldRight(empty)((a, b) => if p(a) then LazyList.cons(a, b) else empty)"
   ]
  },
  {
   "attachments": {},
   "cell_type": "markdown",
   "metadata": {},
   "source": [
    "#### Exercise 5.5\n",
    "\n",
    "Use `foldRight` to implement `takeWhile`."
   ]
  },
  {
   "cell_type": "code",
   "execution_count": 14,
   "metadata": {},
   "outputs": [
    {
     "data": {
      "text/plain": [
       "\u001b[36mres13\u001b[39m: \u001b[32mList\u001b[39m[\u001b[32mInt\u001b[39m] = \u001b[33mList\u001b[39m(\u001b[32m1\u001b[39m, \u001b[32m2\u001b[39m, \u001b[32m3\u001b[39m)"
      ]
     },
     "execution_count": 14,
     "metadata": {},
     "output_type": "execute_result"
    }
   ],
   "source": [
    "LazyList(1, 2, 3, 10, 11, 12).takeWhile(_ < 10).toList"
   ]
  },
  {
   "attachments": {},
   "cell_type": "markdown",
   "metadata": {},
   "source": [
    "#### Exercise 5.6\n",
    "\n",
    "Implement `headOption` using `foldRight`."
   ]
  },
  {
   "cell_type": "code",
   "execution_count": 16,
   "metadata": {},
   "outputs": [
    {
     "data": {
      "text/plain": [
       "defined \u001b[32mextension methods\u001b[39m \n",
       "\u001b[36mres15_1\u001b[39m: \u001b[32mOption\u001b[39m[\u001b[32mInt\u001b[39m] = \u001b[33mSome\u001b[39m(value = \u001b[32m1\u001b[39m)\n",
       "\u001b[36mres15_2\u001b[39m: \u001b[32mOption\u001b[39m[\u001b[32mNothing\u001b[39m] = \u001b[32mNone\u001b[39m"
      ]
     },
     "execution_count": 16,
     "metadata": {},
     "output_type": "execute_result"
    }
   ],
   "source": [
    "extension [A](ll: LazyList[A])\n",
    "    def headOption: Option[A] =\n",
    "        ll.foldRight(None : Option[A])((a, b) => Some(a))\n",
    "\n",
    "LazyList(1, 2).headOption\n",
    "empty.headOption"
   ]
  },
  {
   "attachments": {},
   "cell_type": "markdown",
   "metadata": {},
   "source": [
    "#### Exercise 5.7\n",
    "\n",
    "Implement `map`, `filter`, `append`, and `flatMap` using `foldRight`. The `append` method should be nonstrict in its argument."
   ]
  },
  {
   "cell_type": "code",
   "execution_count": 17,
   "metadata": {},
   "outputs": [
    {
     "data": {
      "text/plain": [
       "defined \u001b[32mextension methods\u001b[39m \n",
       "\u001b[36mres16_1\u001b[39m: \u001b[32mList\u001b[39m[\u001b[32mInt\u001b[39m] = \u001b[33mList\u001b[39m(\u001b[32m2\u001b[39m, \u001b[32m3\u001b[39m, \u001b[32m4\u001b[39m)"
      ]
     },
     "execution_count": 17,
     "metadata": {},
     "output_type": "execute_result"
    }
   ],
   "source": [
    "extension [A](ll: LazyList[A])\n",
    "    def map[B](f: A => B): LazyList[B] =\n",
    "        ll.foldRight(empty)((a, b) => cons(f(a), b))\n",
    "\n",
    "LazyList(1, 2, 3).map(_ + 1).toList"
   ]
  },
  {
   "cell_type": "code",
   "execution_count": 29,
   "metadata": {},
   "outputs": [
    {
     "data": {
      "text/plain": [
       "defined \u001b[32mextension methods\u001b[39m \n",
       "\u001b[36mres28_1\u001b[39m: \u001b[32mList\u001b[39m[\u001b[32mInt\u001b[39m] = \u001b[33mList\u001b[39m(\u001b[32m2\u001b[39m)"
      ]
     },
     "execution_count": 29,
     "metadata": {},
     "output_type": "execute_result"
    }
   ],
   "source": [
    "extension [A](ll: LazyList[A])\n",
    "    def filter(f: A => Boolean): LazyList[A] =\n",
    "        ll.foldRight(empty)((a, b) => if f(a) then cons(a, b) else b)\n",
    "\n",
    "LazyList(1, 2, 3).filter(_ % 2 == 0).toList"
   ]
  },
  {
   "cell_type": "code",
   "execution_count": 26,
   "metadata": {},
   "outputs": [
    {
     "data": {
      "text/plain": [
       "defined \u001b[32mextension methods\u001b[39m \n",
       "\u001b[36mres25_1\u001b[39m: \u001b[32mList\u001b[39m[\u001b[32mInt\u001b[39m] = \u001b[33mList\u001b[39m(\u001b[32m1\u001b[39m, \u001b[32m2\u001b[39m, \u001b[32m3\u001b[39m, \u001b[32m4\u001b[39m, \u001b[32m5\u001b[39m, \u001b[32m6\u001b[39m)"
      ]
     },
     "execution_count": 26,
     "metadata": {},
     "output_type": "execute_result"
    }
   ],
   "source": [
    "extension [A](ll: LazyList[A])\n",
    "    def append(that: => LazyList[A]): LazyList[A] =\n",
    "        ll.foldRight(that)((a, b) => cons(a, b))\n",
    "\n",
    "LazyList(1, 2, 3).append(LazyList(4, 5, 6)).toList"
   ]
  },
  {
   "cell_type": "code",
   "execution_count": 25,
   "metadata": {},
   "outputs": [
    {
     "data": {
      "text/plain": [
       "defined \u001b[32mextension methods\u001b[39m \n",
       "defined \u001b[32mfunction\u001b[39m \u001b[36mLazyRangeList\u001b[39m\n",
       "\u001b[36mres24_2\u001b[39m: \u001b[32mList\u001b[39m[\u001b[32mInt\u001b[39m] = \u001b[33mList\u001b[39m(\u001b[32m1\u001b[39m, \u001b[32m1\u001b[39m, \u001b[32m2\u001b[39m, \u001b[32m1\u001b[39m, \u001b[32m2\u001b[39m, \u001b[32m3\u001b[39m, \u001b[32m1\u001b[39m, \u001b[32m2\u001b[39m, \u001b[32m3\u001b[39m, \u001b[32m4\u001b[39m)"
      ]
     },
     "execution_count": 25,
     "metadata": {},
     "output_type": "execute_result"
    }
   ],
   "source": [
    "extension [A](ll: LazyList[A])\n",
    "    def flatMap[B](f: A => LazyList[B]): LazyList[B] =\n",
    "        ll.foldRight(empty)((a, b) => f(a).append(b))\n",
    "\n",
    "def LazyRangeList(start: Int, end: Int): LazyList[Int] =\n",
    "    if start > end then empty \n",
    "    else if start == end then cons(start, empty)\n",
    "    else cons(start, LazyRangeList(start+1, end))\n",
    "\n",
    "LazyRangeList(1, 4).flatMap(a => LazyRangeList(1, a)).toList"
   ]
  },
  {
   "attachments": {},
   "cell_type": "markdown",
   "metadata": {},
   "source": [
    "#### Exercise 5.8\n",
    "\n",
    "Generalize `ones` slightly to the function `continually`, which returns an infinite `LazyList` of a given value."
   ]
  },
  {
   "cell_type": "code",
   "execution_count": 30,
   "metadata": {},
   "outputs": [
    {
     "data": {
      "text/plain": [
       "defined \u001b[32mfunction\u001b[39m \u001b[36mcontinually\u001b[39m\n",
       "\u001b[36mres29_1\u001b[39m: \u001b[32mList\u001b[39m[\u001b[32mString\u001b[39m] = \u001b[33mList\u001b[39m(\u001b[32m\"foo\"\u001b[39m, \u001b[32m\"foo\"\u001b[39m, \u001b[32m\"foo\"\u001b[39m)"
      ]
     },
     "execution_count": 30,
     "metadata": {},
     "output_type": "execute_result"
    }
   ],
   "source": [
    "def continually[A](a: A): LazyList[A] = cons(a, continually(a))\n",
    "\n",
    "continually(\"foo\").take(3).toList"
   ]
  },
  {
   "attachments": {},
   "cell_type": "markdown",
   "metadata": {},
   "source": [
    "#### Exercise 5.9\n",
    "\n",
    "Write a function that generates an infinite lazy list of integers start from n, then n+1, ...."
   ]
  },
  {
   "cell_type": "code",
   "execution_count": 31,
   "metadata": {},
   "outputs": [
    {
     "data": {
      "text/plain": [
       "defined \u001b[32mfunction\u001b[39m \u001b[36mfrom\u001b[39m\n",
       "\u001b[36mres30_1\u001b[39m: \u001b[32mList\u001b[39m[\u001b[32mInt\u001b[39m] = \u001b[33mList\u001b[39m(\u001b[32m1\u001b[39m, \u001b[32m2\u001b[39m, \u001b[32m3\u001b[39m, \u001b[32m4\u001b[39m, \u001b[32m5\u001b[39m, \u001b[32m6\u001b[39m, \u001b[32m7\u001b[39m, \u001b[32m8\u001b[39m, \u001b[32m9\u001b[39m, \u001b[32m10\u001b[39m)"
      ]
     },
     "execution_count": 31,
     "metadata": {},
     "output_type": "execute_result"
    }
   ],
   "source": [
    "def from(n: Int): LazyList[Int] = cons(n, from(n+1))\n",
    "\n",
    "from(1).take(10).toList"
   ]
  },
  {
   "attachments": {},
   "cell_type": "markdown",
   "metadata": {},
   "source": [
    "#### Exercise 5.10\n",
    "\n",
    "Write a function `fibs` that generates the infinite lazy list of Fibonacci numbers: 0, 1, 1, 2, 3, 5, 8 and so on."
   ]
  },
  {
   "cell_type": "code",
   "execution_count": 34,
   "metadata": {},
   "outputs": [
    {
     "data": {
      "text/plain": [
       "defined \u001b[32mfunction\u001b[39m \u001b[36mfib\u001b[39m\n",
       "\u001b[36mres33_1\u001b[39m: \u001b[32mList\u001b[39m[\u001b[32mInt\u001b[39m] = \u001b[33mList\u001b[39m(\u001b[32m0\u001b[39m, \u001b[32m1\u001b[39m, \u001b[32m1\u001b[39m, \u001b[32m2\u001b[39m, \u001b[32m3\u001b[39m, \u001b[32m5\u001b[39m, \u001b[32m8\u001b[39m)"
      ]
     },
     "execution_count": 34,
     "metadata": {},
     "output_type": "execute_result"
    }
   ],
   "source": [
    "def fib : LazyList[Int] =\n",
    "    def go(a: Int, b: Int): LazyList[Int] = cons(a, go(b, a + b))\n",
    "    go(0, 1)\n",
    "\n",
    "fib.take(7).toList"
   ]
  },
  {
   "attachments": {},
   "cell_type": "markdown",
   "metadata": {},
   "source": [
    "#### Exercise 5.11\n",
    "\n",
    "Write a more general `LazyList`-building function called `unfold`. It takes an initial state and a function for producing both the next state and the next value in the generated lazy list. `Option` is used to indicate when the `LazyList` should be terminated, if at all. The function `unfold` is a very general `LazyList`-building function."
   ]
  },
  {
   "cell_type": "code",
   "execution_count": 35,
   "metadata": {},
   "outputs": [
    {
     "data": {
      "text/plain": [
       "defined \u001b[32mfunction\u001b[39m \u001b[36munfold\u001b[39m"
      ]
     },
     "execution_count": 35,
     "metadata": {},
     "output_type": "execute_result"
    }
   ],
   "source": [
    "def unfold[A, S](state: S)(f: S => Option[(A, S)]): LazyList[A] =\n",
    "    f(state) match\n",
    "        case Some((a, s)) => cons(a, unfold(s)(f))\n",
    "        case None => empty"
   ]
  },
  {
   "attachments": {},
   "cell_type": "markdown",
   "metadata": {},
   "source": [
    "#### Exercise 5.12\n",
    "\n",
    "Write `fibs`, `from`, `continually`, and `ones` in terms of `unfold`."
   ]
  },
  {
   "cell_type": "code",
   "execution_count": 37,
   "metadata": {},
   "outputs": [
    {
     "data": {
      "text/plain": [
       "defined \u001b[32mfunction\u001b[39m \u001b[36mfibs\u001b[39m\n",
       "\u001b[36mres36_1\u001b[39m: \u001b[32mList\u001b[39m[\u001b[32mInt\u001b[39m] = \u001b[33mList\u001b[39m(\u001b[32m0\u001b[39m, \u001b[32m1\u001b[39m, \u001b[32m1\u001b[39m, \u001b[32m2\u001b[39m, \u001b[32m3\u001b[39m, \u001b[32m5\u001b[39m, \u001b[32m8\u001b[39m)"
      ]
     },
     "execution_count": 37,
     "metadata": {},
     "output_type": "execute_result"
    }
   ],
   "source": [
    "def fibs = unfold((0, 1))((curr, next) => Some((curr, (next, curr+next))))\n",
    "\n",
    "fibs.take(7).toList"
   ]
  },
  {
   "cell_type": "code",
   "execution_count": 38,
   "metadata": {},
   "outputs": [
    {
     "data": {
      "text/plain": [
       "defined \u001b[32mfunction\u001b[39m \u001b[36mfrom\u001b[39m\n",
       "\u001b[36mres37_1\u001b[39m: \u001b[32mList\u001b[39m[\u001b[32mInt\u001b[39m] = \u001b[33mList\u001b[39m(\u001b[32m10\u001b[39m, \u001b[32m11\u001b[39m, \u001b[32m12\u001b[39m, \u001b[32m13\u001b[39m, \u001b[32m14\u001b[39m)"
      ]
     },
     "execution_count": 38,
     "metadata": {},
     "output_type": "execute_result"
    }
   ],
   "source": [
    "def from(n: Int): LazyList[Int] = unfold(n)(n => Some(n, n+1))\n",
    "\n",
    "from(10).take(5).toList"
   ]
  },
  {
   "cell_type": "code",
   "execution_count": 41,
   "metadata": {},
   "outputs": [
    {
     "data": {
      "text/plain": [
       "defined \u001b[32mfunction\u001b[39m \u001b[36mcontinually\u001b[39m\n",
       "defined \u001b[32mfunction\u001b[39m \u001b[36mones\u001b[39m\n",
       "\u001b[36mres40_2\u001b[39m: \u001b[32mList\u001b[39m[\u001b[32mString\u001b[39m] = \u001b[33mList\u001b[39m(\u001b[32m\"foo\"\u001b[39m, \u001b[32m\"foo\"\u001b[39m, \u001b[32m\"foo\"\u001b[39m)\n",
       "\u001b[36mres40_3\u001b[39m: \u001b[32mList\u001b[39m[\u001b[32mInt\u001b[39m] = \u001b[33mList\u001b[39m(\u001b[32m1\u001b[39m, \u001b[32m1\u001b[39m, \u001b[32m1\u001b[39m, \u001b[32m1\u001b[39m, \u001b[32m1\u001b[39m)"
      ]
     },
     "execution_count": 41,
     "metadata": {},
     "output_type": "execute_result"
    }
   ],
   "source": [
    "def continually[A](a: A): LazyList[A] = unfold(())(_ => Some(a, ()))\n",
    "\n",
    "def ones : LazyList[Int] = unfold(())(_ => Some(1, ()))\n",
    "\n",
    "continually(\"foo\").take(3).toList\n",
    "ones.take(5).toList"
   ]
  },
  {
   "attachments": {},
   "cell_type": "markdown",
   "metadata": {},
   "source": [
    "#### Exercise 5.13\n",
    "\n",
    "Use `unfold` to implement `map`, `take`, `takeWhile`, `zipWith` (as in chapter 3), and `zipAll`. The `zipAll` function should continue the traversal as long as either lazy list has more elements; it uses `Option` to indicate whether each lazy list has been exhausted."
   ]
  },
  {
   "cell_type": "code",
   "execution_count": 46,
   "metadata": {},
   "outputs": [
    {
     "data": {
      "text/plain": [
       "defined \u001b[32mextension methods\u001b[39m \n",
       "\u001b[36mres45_1\u001b[39m: \u001b[32mList\u001b[39m[\u001b[32mInt\u001b[39m] = \u001b[33mList\u001b[39m(\u001b[32m2\u001b[39m, \u001b[32m4\u001b[39m, \u001b[32m6\u001b[39m)"
      ]
     },
     "execution_count": 46,
     "metadata": {},
     "output_type": "execute_result"
    }
   ],
   "source": [
    "extension [A](ll: LazyList[A])\n",
    "    def map[B](f: A => B): LazyList[B] =\n",
    "        unfold(ll)(_ match \n",
    "            case Cons(h, t) => Some(f(h()), t())\n",
    "            case Empty => None)\n",
    "\n",
    "LazyList(1, 2, 3).map(_ * 2).toList"
   ]
  },
  {
   "cell_type": "code",
   "execution_count": 51,
   "metadata": {},
   "outputs": [
    {
     "data": {
      "text/plain": [
       "defined \u001b[32mextension methods\u001b[39m \n",
       "\u001b[36mres50_1\u001b[39m: \u001b[32mList\u001b[39m[(\u001b[32mInt\u001b[39m, \u001b[32mInt\u001b[39m)] = \u001b[33mList\u001b[39m((\u001b[32m1\u001b[39m, \u001b[32m2\u001b[39m), (\u001b[32m2\u001b[39m, \u001b[32m3\u001b[39m), (\u001b[32m3\u001b[39m, \u001b[32m4\u001b[39m), (\u001b[32m4\u001b[39m, \u001b[32m5\u001b[39m), (\u001b[32m5\u001b[39m, \u001b[32m6\u001b[39m))\n",
       "\u001b[36mres50_2\u001b[39m: \u001b[32mList\u001b[39m[(\u001b[32mOption\u001b[39m[\u001b[32mInt\u001b[39m], \u001b[32mOption\u001b[39m[\u001b[32mInt\u001b[39m])] = \u001b[33mList\u001b[39m(\n",
       "  (\u001b[33mSome\u001b[39m(value = \u001b[32m1\u001b[39m), \u001b[33mSome\u001b[39m(value = \u001b[32m1\u001b[39m)),\n",
       "  (\u001b[33mSome\u001b[39m(value = \u001b[32m2\u001b[39m), \u001b[33mSome\u001b[39m(value = \u001b[32m2\u001b[39m)),\n",
       "  (\u001b[33mSome\u001b[39m(value = \u001b[32m3\u001b[39m), \u001b[33mSome\u001b[39m(value = \u001b[32m3\u001b[39m)),\n",
       "  (\u001b[32mNone\u001b[39m, \u001b[33mSome\u001b[39m(value = \u001b[32m4\u001b[39m)),\n",
       "  (\u001b[32mNone\u001b[39m, \u001b[33mSome\u001b[39m(value = \u001b[32m5\u001b[39m)),\n",
       "  (\u001b[32mNone\u001b[39m, \u001b[33mSome\u001b[39m(value = \u001b[32m6\u001b[39m))\n",
       ")"
      ]
     },
     "execution_count": 51,
     "metadata": {},
     "output_type": "execute_result"
    }
   ],
   "source": [
    "extension [A](ll: LazyList[A])\n",
    "    def take(n: Int): LazyList[A] =\n",
    "        unfold((n, ll))((n, ll) => ll match \n",
    "            case Cons(h, t) if n > 1 => Some(h(), (n-1, t()))\n",
    "            case Cons(h, _) if n == 1 => Some(h(), (n-1, empty))\n",
    "            case _ => None\n",
    "        )\n",
    "\n",
    "    def takeWhile(p: A => Boolean): LazyList[A] =\n",
    "        unfold(ll)(_ match \n",
    "            case Cons(h, t) if p(h()) => Some(h(), t())\n",
    "            case _ => None\n",
    "        )\n",
    "\n",
    "    def zipWith[B](that: LazyList[B]): LazyList[(A, B)] =\n",
    "        unfold((ll, that))(_ match\n",
    "            case (Cons(h, t), Cons(h2, t2)) => Some((h(), h2()), (t(), t2()))\n",
    "            case _ => None\n",
    "        )\n",
    "\n",
    "    def zipAll[B](that: LazyList[B]): LazyList[(Option[A], Option[B])] =\n",
    "        unfold((ll, that))(_ match\n",
    "            case (Cons(h, t), Cons(h2, t2)) => Some((Some(h()), Some(h2())), (t(), t2()))\n",
    "            case (Cons(h, t), _) => Some((Some(h()), None), (t(), empty))\n",
    "            case (_, Cons(h2, t2)) => Some((None, Some(h2())), (empty, t2()))\n",
    "            case _ => None\n",
    "        )\n",
    "\n",
    "from(1).zipWith(from(2)).take(5).toList\n",
    "\n",
    "LazyList(1, 2, 3).zipAll(from(1)).take(6).toList"
   ]
  },
  {
   "attachments": {},
   "cell_type": "markdown",
   "metadata": {},
   "source": [
    "#### Exercise 5.14\n",
    "\n",
    "Implement `startsWith` using functions you've written. It should check if one `LazyList` is a prefix of another."
   ]
  },
  {
   "cell_type": "code",
   "execution_count": 66,
   "metadata": {},
   "outputs": [
    {
     "data": {
      "text/plain": [
       "defined \u001b[32mextension methods\u001b[39m \n",
       "\u001b[36mres65_1\u001b[39m: \u001b[32mBoolean\u001b[39m = \u001b[32mtrue\u001b[39m\n",
       "\u001b[36mres65_2\u001b[39m: \u001b[32mBoolean\u001b[39m = \u001b[32mtrue\u001b[39m\n",
       "\u001b[36mres65_3\u001b[39m: \u001b[32mBoolean\u001b[39m = \u001b[32mfalse\u001b[39m"
      ]
     },
     "execution_count": 66,
     "metadata": {},
     "output_type": "execute_result"
    }
   ],
   "source": [
    "extension [A](ll: LazyList[A])\n",
    "    def startsWith(prefix: LazyList[A]): Boolean =\n",
    "        ll.zipAll(prefix).takeWhile(_(1).isDefined).forAll(_ == _)\n",
    "\n",
    "LazyList(1, 2, 3).startsWith(LazyList(1, 2))\n",
    "LazyList(1, 2, 3).startsWith(LazyList(1, 2, 3))\n",
    "LazyList(1, 2, 3).startsWith(LazyList(1, 2, 3, 4))"
   ]
  },
  {
   "attachments": {},
   "cell_type": "markdown",
   "metadata": {},
   "source": [
    "#### Exercise 5.15\n",
    "\n",
    "Implement `tails` using `unfold`. For a given `LazyList`, `tails` returns the `LazyList` of suffixes of the input sequence, starts with the original `LazyList`. For example, given `LazyList(1, 2, 3)`, it would return `LazyList(LazyList(1, 2, 3), LazyList(2, 3), LazyList(3), LazyList())`."
   ]
  },
  {
   "cell_type": "code",
   "execution_count": 82,
   "metadata": {},
   "outputs": [
    {
     "data": {
      "text/plain": [
       "defined \u001b[32mextension methods\u001b[39m \n",
       "\u001b[36mres81_1\u001b[39m: \u001b[32mList\u001b[39m[\u001b[32mList\u001b[39m[\u001b[32mInt\u001b[39m]] = \u001b[33mList\u001b[39m(\u001b[33mList\u001b[39m(\u001b[32m1\u001b[39m, \u001b[32m2\u001b[39m, \u001b[32m3\u001b[39m), \u001b[33mList\u001b[39m(\u001b[32m2\u001b[39m, \u001b[32m3\u001b[39m), \u001b[33mList\u001b[39m(\u001b[32m3\u001b[39m))"
      ]
     },
     "execution_count": 82,
     "metadata": {},
     "output_type": "execute_result"
    }
   ],
   "source": [
    "extension [A](ll: LazyList[A])\n",
    "    def tails = unfold(ll)(_ match\n",
    "        case ll@Cons(_, t) => Some(ll, t())\n",
    "        case _ => None\n",
    "    )\n",
    "\n",
    "LazyList(1, 2, 3).tails.toList.map(_.toList)\n"
   ]
  },
  {
   "attachments": {},
   "cell_type": "markdown",
   "metadata": {},
   "source": [
    "#### Exercise 5.16\n",
    "\n",
    "Generalize `tails` to the function `scanRight`, which is like a `foldRight` that returns a lazy list of the intermediate results. For example:\n",
    "\n",
    "```scala\n",
    "LazyList(1, 2, 3).scanRight(0)(_ + _).toList\n",
    "```\n",
    "Results in\n",
    "`List(6, 5, 3, 0)`"
   ]
  },
  {
   "cell_type": "code",
   "execution_count": 86,
   "metadata": {},
   "outputs": [
    {
     "data": {
      "text/plain": [
       "defined \u001b[32mextension methods\u001b[39m \n",
       "\u001b[36mres85_1\u001b[39m: \u001b[32mList\u001b[39m[\u001b[32mInt\u001b[39m] = \u001b[33mList\u001b[39m(\u001b[32m1\u001b[39m, \u001b[32m2\u001b[39m, \u001b[32m3\u001b[39m)"
      ]
     },
     "execution_count": 86,
     "metadata": {},
     "output_type": "execute_result"
    }
   ],
   "source": [
    "extension [A](ll: LazyList[A])\n",
    "    def scanRight[B](acc: B)(f: (A, B) => B): LazyList[B] =\n",
    "        unfold((ll, acc))((ll, acc) => ll match\n",
    "            case Cons(h, t) => Some(f(h(), acc), (t(), acc))\n",
    "            case _ => None\n",
    "        )\n",
    "\n",
    "LazyList(1, 2, 3).scanRight(0)(_ + _).toList"
   ]
  },
  {
   "attachments": {},
   "cell_type": "markdown",
   "metadata": {},
   "source": [
    "That clearly did not work. What we need to do is add the list to itself somehow. Like (1, 2, 3) + (2, 3) + (3) + initAcc. Or we could foldRight and take the head of the accumulator and add it the current head."
   ]
  },
  {
   "cell_type": "code",
   "execution_count": 88,
   "metadata": {},
   "outputs": [
    {
     "data": {
      "text/plain": [
       "defined \u001b[32mextension methods\u001b[39m \n",
       "\u001b[36mres87_1\u001b[39m: \u001b[32mList\u001b[39m[\u001b[32mInt\u001b[39m] = \u001b[33mList\u001b[39m(\u001b[32m6\u001b[39m, \u001b[32m5\u001b[39m, \u001b[32m3\u001b[39m, \u001b[32m0\u001b[39m)"
      ]
     },
     "execution_count": 88,
     "metadata": {},
     "output_type": "execute_result"
    }
   ],
   "source": [
    "extension [A](ll: LazyList[A])\n",
    "    def scanRight[B](acc: B)(f: (A, B) => B): LazyList[B] =\n",
    "        ll.foldRight(LazyList(acc))((a, acc) => cons(f(a, acc.headOption.get), acc))\n",
    "\n",
    "LazyList(1, 2, 3).scanRight(0)(_ + _).toList"
   ]
  },
  {
   "cell_type": "code",
   "execution_count": null,
   "metadata": {},
   "outputs": [],
   "source": []
  }
 ],
 "metadata": {
  "kernelspec": {
   "display_name": "Scala",
   "language": "scala",
   "name": "scala"
  },
  "language_info": {
   "codemirror_mode": "text/x-scala",
   "file_extension": ".sc",
   "mimetype": "text/x-scala",
   "name": "scala",
   "nbconvert_exporter": "script",
   "version": "2.13.10"
  },
  "orig_nbformat": 4
 },
 "nbformat": 4,
 "nbformat_minor": 2
}
