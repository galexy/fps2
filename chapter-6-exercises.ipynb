{
 "cells": [
  {
   "cell_type": "code",
   "execution_count": 1,
   "metadata": {},
   "outputs": [
    {
     "data": {
      "text/plain": [
       "defined \u001b[32mtrait\u001b[39m \u001b[36mRNG\u001b[39m\n",
       "defined \u001b[32mclass\u001b[39m \u001b[36mSimpleRNG\u001b[39m"
      ]
     },
     "execution_count": 1,
     "metadata": {},
     "output_type": "execute_result"
    }
   ],
   "source": [
    "trait RNG:\n",
    "    def nextInt: (Int, RNG)\n",
    "\n",
    "case class SimpleRNG(seed: Long) extends RNG:\n",
    "    def nextInt: (Int, RNG) =\n",
    "        val newSeed = (seed * 0x5DeeCE66DL + 0xBL) & 0xFFFFFFFFFFFFL\n",
    "        val nextRNG = SimpleRNG(newSeed)\n",
    "        val n = (newSeed >>> 16).toInt\n",
    "        (n, nextRNG)"
   ]
  },
  {
   "attachments": {},
   "cell_type": "markdown",
   "metadata": {},
   "source": [
    "#### Exercise 6.1\n",
    "\n",
    "Write a function that uses `RNG.nextInt` to generate a random integer between `0` and `Int.MaxValue` (inclusive). Make sure to handle the corner case when `nextInt` returns `Int.MinValue`, which doesn't have a nonnegative counterpart."
   ]
  },
  {
   "cell_type": "code",
   "execution_count": 2,
   "metadata": {},
   "outputs": [
    {
     "data": {
      "text/plain": [
       "defined \u001b[32mfunction\u001b[39m \u001b[36mnonNegativeInt\u001b[39m"
      ]
     },
     "execution_count": 2,
     "metadata": {},
     "output_type": "execute_result"
    }
   ],
   "source": [
    "def nonNegativeInt(rng: RNG): (Int, RNG) =\n",
    "    val (n, nextRNG) = rng.nextInt\n",
    "    val absN = if n == Int.MinValue then 0 else scala.math.abs(n)\n",
    "    (n, nextRNG)"
   ]
  },
  {
   "attachments": {},
   "cell_type": "markdown",
   "metadata": {},
   "source": [
    "### Exercise 6.2\n",
    "\n",
    "Write a function to generate a `Double` between `0` and `1`, not including `1`. Note that you can use `Int.MaxValue` to obtain the maximum postive integer value, and you can use `x.toDouble` to convert an `x: Int` to a `Double`."
   ]
  },
  {
   "cell_type": "code",
   "execution_count": 3,
   "metadata": {},
   "outputs": [
    {
     "data": {
      "text/plain": [
       "defined \u001b[32mfunction\u001b[39m \u001b[36mdouble\u001b[39m"
      ]
     },
     "execution_count": 3,
     "metadata": {},
     "output_type": "execute_result"
    }
   ],
   "source": [
    "def double(rng: RNG): (Double, RNG) =\n",
    "    val (n, nextRNG) = nonNegativeInt(rng)\n",
    "    ((if n > 0 then n-1 else n).toDouble / Int.MaxValue.toDouble, nextRNG)"
   ]
  },
  {
   "attachments": {},
   "cell_type": "markdown",
   "metadata": {},
   "source": [
    "#### Exercise 6.3\n",
    "\n",
    "Write functions to generate an `(Int, Double)` pair, a `(Double, Int)` pair, and a `(Double, Double, Double)` 3-tuple. You should be able to reuse the functions you've already written."
   ]
  },
  {
   "cell_type": "code",
   "execution_count": 4,
   "metadata": {},
   "outputs": [
    {
     "data": {
      "text/plain": [
       "defined \u001b[32mfunction\u001b[39m \u001b[36mintDouble\u001b[39m\n",
       "defined \u001b[32mfunction\u001b[39m \u001b[36mdoubleInt\u001b[39m\n",
       "defined \u001b[32mfunction\u001b[39m \u001b[36mdouble3\u001b[39m\n",
       "\u001b[36mr\u001b[39m: \u001b[32mSimpleRNG\u001b[39m = \u001b[33mSimpleRNG\u001b[39m(seed = \u001b[32m42L\u001b[39m)\n",
       "\u001b[36mr2\u001b[39m: \u001b[32mRNG\u001b[39m = \u001b[33mSimpleRNG\u001b[39m(seed = \u001b[32m1059025964525L\u001b[39m)\n",
       "\u001b[36mr3\u001b[39m: \u001b[32mRNG\u001b[39m = \u001b[33mSimpleRNG\u001b[39m(seed = \u001b[32m259172689157871L\u001b[39m)\n",
       "\u001b[36mr4\u001b[39m: \u001b[32mRNG\u001b[39m = \u001b[33mSimpleRNG\u001b[39m(seed = \u001b[32m115998806404289L\u001b[39m)\n",
       "\u001b[36mres3_7\u001b[39m: (\u001b[32mInt\u001b[39m, \u001b[32mDouble\u001b[39m, \u001b[32mDouble\u001b[39m, \u001b[32mInt\u001b[39m, \u001b[32mDouble\u001b[39m, \u001b[32mDouble\u001b[39m, \u001b[32mDouble\u001b[39m, \u001b[32mRNG\u001b[39m) = (\n",
       "  \u001b[32m16159453\u001b[39m,\n",
       "  \u001b[32m0.007524831224011644\u001b[39m,\n",
       "  \u001b[32m-0.5967354856416283\u001b[39m,\n",
       "  \u001b[32m-340305902\u001b[39m,\n",
       "  \u001b[32m-0.9386595436086224\u001b[39m,\n",
       "  \u001b[32m0.8242210921944217\u001b[39m,\n",
       "  \u001b[32m-0.900863232044905\u001b[39m,\n",
       "  \u001b[33mSimpleRNG\u001b[39m(seed = \u001b[32m115998806404289L\u001b[39m)\n",
       ")"
      ]
     },
     "execution_count": 4,
     "metadata": {},
     "output_type": "execute_result"
    }
   ],
   "source": [
    "def intDouble(rng: RNG): ((Int, Double), RNG) =\n",
    "    val (i, r) = rng.nextInt\n",
    "    val (d, r2) = double(rng)\n",
    "    ((i,d), r2)\n",
    "\n",
    "def doubleInt(rng: RNG): ((Double, Int), RNG) =\n",
    "    val (d, r) = double(rng)\n",
    "    val (i, r2) = r.nextInt\n",
    "    ((d, i), r2)\n",
    "\n",
    "def double3(rng: RNG): ((Double, Double, Double), RNG) =\n",
    "    val (d1, r1) = double(rng)\n",
    "    val (d2, r2) = double(r1)\n",
    "    val (d3, r3) = double(r2)\n",
    "    ((d1, d2, d3), r2)\n",
    "\n",
    "val r = SimpleRNG(42)\n",
    "val ((i, d), r2) = intDouble(r)\n",
    "val ((d2, i2), r3) = doubleInt(r2)\n",
    "val ((d3, d4, d5), r4) = double3(r3)\n",
    "\n",
    "(i, d, d2, i2, d3, d4, d5, r4)"
   ]
  },
  {
   "attachments": {},
   "cell_type": "markdown",
   "metadata": {},
   "source": [
    "#### Exercise 6.4\n",
    "\n",
    "Write a function to generate a list of random integers"
   ]
  },
  {
   "cell_type": "code",
   "execution_count": 5,
   "metadata": {},
   "outputs": [
    {
     "data": {
      "text/plain": [
       "defined \u001b[32mfunction\u001b[39m \u001b[36mints\u001b[39m\n",
       "\u001b[36mr\u001b[39m: \u001b[32mSimpleRNG\u001b[39m = \u001b[33mSimpleRNG\u001b[39m(seed = \u001b[32m42L\u001b[39m)\n",
       "\u001b[36mis\u001b[39m: \u001b[32mList\u001b[39m[\u001b[32mInt\u001b[39m] = \u001b[33mList\u001b[39m(\n",
       "  \u001b[32m1837487774\u001b[39m,\n",
       "  \u001b[32m-94901159\u001b[39m,\n",
       "  \u001b[32m-1163632441\u001b[39m,\n",
       "  \u001b[32m1015914512\u001b[39m,\n",
       "  \u001b[32m-1934589059\u001b[39m,\n",
       "  \u001b[32m1770001318\u001b[39m,\n",
       "  \u001b[32m-2015756020\u001b[39m,\n",
       "  \u001b[32m-340305902\u001b[39m,\n",
       "  \u001b[32m-1281479697\u001b[39m,\n",
       "  \u001b[32m16159453\u001b[39m\n",
       ")\n",
       "\u001b[36mr2\u001b[39m: \u001b[32mRNG\u001b[39m = \u001b[33mSimpleRNG\u001b[39m(seed = \u001b[32m120421598792892L\u001b[39m)"
      ]
     },
     "execution_count": 5,
     "metadata": {},
     "output_type": "execute_result"
    }
   ],
   "source": [
    "def ints(count: Int)(rng: RNG): (List[Int], RNG) =\n",
    "    @annotation.tailrec\n",
    "    def go(l: List[Int], count: Int)(rng: RNG): (List[Int], RNG) =\n",
    "        if count <= 0 then (l, rng)\n",
    "        else\n",
    "            val (i, r) = rng.nextInt\n",
    "            go(i :: l, count-1)(r)\n",
    "    go(List(), count)(rng)\n",
    "\n",
    "val r = SimpleRNG(42)\n",
    "val (is, r2) = ints(10)(r)"
   ]
  },
  {
   "cell_type": "code",
   "execution_count": 6,
   "metadata": {},
   "outputs": [
    {
     "data": {
      "text/plain": [
       "defined \u001b[32mtype\u001b[39m \u001b[36mRand\u001b[39m\n",
       "defined \u001b[32mfunction\u001b[39m \u001b[36mmap\u001b[39m"
      ]
     },
     "execution_count": 6,
     "metadata": {},
     "output_type": "execute_result"
    }
   ],
   "source": [
    "type Rand[+A] = RNG => (A, RNG)\n",
    "\n",
    "def map[A, B](s: Rand[A])(f: A => B): Rand[B] =\n",
    "    rng =>\n",
    "        val (a, rng2) = s(rng)\n",
    "        (f(a), rng2)"
   ]
  },
  {
   "attachments": {},
   "cell_type": "markdown",
   "metadata": {},
   "source": [
    "### Exercise 6.5\n",
    "\n",
    "Use `map` to reimplement `double` in a more succint way."
   ]
  },
  {
   "cell_type": "code",
   "execution_count": 7,
   "metadata": {},
   "outputs": [
    {
     "data": {
      "text/plain": [
       "defined \u001b[32mfunction\u001b[39m \u001b[36mdouble\u001b[39m"
      ]
     },
     "execution_count": 7,
     "metadata": {},
     "output_type": "execute_result"
    }
   ],
   "source": [
    "def double: Rand[Double] = map(nonNegativeInt)(_ / (Int.MaxValue.toDouble + 1))"
   ]
  },
  {
   "cell_type": "code",
   "execution_count": 8,
   "metadata": {},
   "outputs": [
    {
     "data": {
      "text/plain": [
       "\u001b[36mres7\u001b[39m: (\u001b[32mDouble\u001b[39m, \u001b[32mRNG\u001b[39m) = (\u001b[32m0.007524831686168909\u001b[39m, \u001b[33mSimpleRNG\u001b[39m(seed = \u001b[32m1059025964525L\u001b[39m))"
      ]
     },
     "execution_count": 8,
     "metadata": {},
     "output_type": "execute_result"
    }
   ],
   "source": [
    "double(SimpleRNG(42))"
   ]
  },
  {
   "attachments": {},
   "cell_type": "markdown",
   "metadata": {},
   "source": [
    "#### Exercise 6.6\n",
    "\n",
    "Write the implementation of `map2` based on the following signature. This function takes two actions, `ra` and `rb`, and a function, `f`, for combining their results and returns a new action that combines them."
   ]
  },
  {
   "cell_type": "code",
   "execution_count": 9,
   "metadata": {},
   "outputs": [
    {
     "data": {
      "text/plain": [
       "defined \u001b[32mfunction\u001b[39m \u001b[36mmap2\u001b[39m"
      ]
     },
     "execution_count": 9,
     "metadata": {},
     "output_type": "execute_result"
    }
   ],
   "source": [
    "def map2[A, B, C](ra: Rand[A], rb: Rand[B])(f: (A, B) => C): Rand[C] =\n",
    "    rng => \n",
    "        val (a, r2) = ra(rng)\n",
    "        val (b, r3) = rb(r2)\n",
    "        (f(a, b), r3)"
   ]
  },
  {
   "attachments": {},
   "cell_type": "markdown",
   "metadata": {},
   "source": [
    "#### Exercise 6.7\n",
    "\n",
    "If you can combine two RNG actions, you should be able to combine an entire list of them. Implement `sequence` for combining a `List` of actions into a single action. Use it to reimplement the `ints` function you wrote before. For the latter, you can use the standard library function `List.fill(n)(x)` to make a list with `x` repeated `n` times."
   ]
  },
  {
   "cell_type": "code",
   "execution_count": 10,
   "metadata": {},
   "outputs": [
    {
     "data": {
      "text/plain": [
       "defined \u001b[32mfunction\u001b[39m \u001b[36munit\u001b[39m\n",
       "defined \u001b[32mfunction\u001b[39m \u001b[36msequence\u001b[39m"
      ]
     },
     "execution_count": 10,
     "metadata": {},
     "output_type": "execute_result"
    }
   ],
   "source": [
    "def unit[A](a: A): Rand[A] =\n",
    "    rng => (a, rng)\n",
    "\n",
    "\n",
    "def sequence[A](rs: List[Rand[A]]): Rand[List[A]] = rs match\n",
    "    case r :: rs => map2(r, sequence(rs))(_ :: _)\n",
    "    case _ => unit(List())\n"
   ]
  },
  {
   "cell_type": "code",
   "execution_count": 12,
   "metadata": {},
   "outputs": [
    {
     "data": {
      "text/plain": [
       "defined \u001b[32mfunction\u001b[39m \u001b[36msequence\u001b[39m"
      ]
     },
     "execution_count": 12,
     "metadata": {},
     "output_type": "execute_result"
    }
   ],
   "source": [
    "def sequence[A](rs: List[Rand[A]]): Rand[List[A]] =\n",
    "    rs.foldRight(unit(Nil : List[A]))((r, acc) => map2(r, acc)(_ :: _))"
   ]
  },
  {
   "attachments": {},
   "cell_type": "markdown",
   "metadata": {},
   "source": [
    "#### Exercise 6.8\n",
    "\n",
    "Implement `flatMap`, and then use it to implement `nonNegativeLessThan`."
   ]
  },
  {
   "cell_type": "code",
   "execution_count": 18,
   "metadata": {},
   "outputs": [
    {
     "data": {
      "text/plain": [
       "defined \u001b[32mfunction\u001b[39m \u001b[36mflatMap\u001b[39m\n",
       "defined \u001b[32mfunction\u001b[39m \u001b[36mnonNegativeLessThan\u001b[39m"
      ]
     },
     "execution_count": 18,
     "metadata": {},
     "output_type": "execute_result"
    }
   ],
   "source": [
    "def flatMap[A, B](r: Rand[A])(f: A => Rand[B]): Rand[B] =\n",
    "    rng => \n",
    "        val (a, r2) = r(rng)\n",
    "        f(a)(r2)\n",
    "\n",
    "def nonNegativeLessThan(n: Int): Rand[Int] =\n",
    "    flatMap(nonNegativeInt) { i =>\n",
    "        val mod = i % n\n",
    "        if i + (n-1) - mod >= 0 then unit(mod) else nonNegativeLessThan(n)\n",
    "    }"
   ]
  },
  {
   "attachments": {},
   "cell_type": "markdown",
   "metadata": {},
   "source": [
    "#### Exercise 6.9\n",
    "\n",
    "Implement `flatMap`, and then use it to implement `nonNegativeLessThan`."
   ]
  },
  {
   "cell_type": "code",
   "execution_count": 20,
   "metadata": {},
   "outputs": [
    {
     "data": {
      "text/plain": [
       "defined \u001b[32mfunction\u001b[39m \u001b[36mmap\u001b[39m\n",
       "defined \u001b[32mfunction\u001b[39m \u001b[36mmap2\u001b[39m"
      ]
     },
     "execution_count": 20,
     "metadata": {},
     "output_type": "execute_result"
    }
   ],
   "source": [
    "def map[A, B](r: Rand[A])(f: A => B): Rand[B] =\n",
    "    flatMap(r)(a => unit(f(a)))\n",
    "\n",
    "def map2[A, B, C](ra: Rand[A], rb: Rand[B])(f: (A, B) => C): Rand[C] =\n",
    "    flatMap(ra)(a => map(rb)(b => f(a, b)))"
   ]
  },
  {
   "attachments": {},
   "cell_type": "markdown",
   "metadata": {},
   "source": [
    "#### Exercise 6.10\n",
    "\n",
    "Generalize the functions `unit`, `map`, `map2`, `flatMap`, and `sequence`. Add them as extenion methods on the `State` type where possible. Otherwise, you should put them in the `State` companion object."
   ]
  },
  {
   "cell_type": "code",
   "execution_count": 31,
   "metadata": {},
   "outputs": [
    {
     "data": {
      "text/plain": [
       "defined \u001b[32mobject\u001b[39m \u001b[36mFps2\u001b[39m\n",
       "\u001b[32mimport \u001b[39m\u001b[36mFps2.State\n",
       "\n",
       "\u001b[39m\n",
       "defined \u001b[32mtype\u001b[39m \u001b[36mRand\u001b[39m\n",
       "defined \u001b[32mfunction\u001b[39m \u001b[36mint\u001b[39m\n",
       "\u001b[36mres30_4\u001b[39m: (\u001b[32mString\u001b[39m, \u001b[32mRNG\u001b[39m) = (\u001b[32m\"16159453\"\u001b[39m, \u001b[33mSimpleRNG\u001b[39m(seed = \u001b[32m1059025964525L\u001b[39m))\n",
       "\u001b[36mres30_5\u001b[39m: (\u001b[32mInt\u001b[39m, \u001b[32mRNG\u001b[39m) = (\u001b[32m-1265320244\u001b[39m, \u001b[33mSimpleRNG\u001b[39m(seed = \u001b[32m197491923327988L\u001b[39m))"
      ]
     },
     "execution_count": 31,
     "metadata": {},
     "output_type": "execute_result"
    }
   ],
   "source": [
    "object Fps2 {\n",
    "    opaque type State[S, +A] = S => (A, S)\n",
    "\n",
    "    object State:\n",
    "        def apply[S, A](f: S => (A, S)): State[S, A] = f\n",
    "\n",
    "        def unit[S, A](a: A): State[S, A] =\n",
    "            s => (a, s)\n",
    "\n",
    "        def sequence[S, A](s: List[State[S, A]]): State[S, List[A]] =\n",
    "            s.foldRight(unit(Nil : List[A]))((s, acc) => s.map2(acc)(_ :: _))\n",
    "\n",
    "        extension [S, A](underlying: State[S, A])\n",
    "            def run(s: S): (A, S) = underlying(s)\n",
    "\n",
    "            def flatMap[B](f: A => State[S, B]): State[S, B] =\n",
    "                s => \n",
    "                    val (a, s2) = underlying(s)\n",
    "                    f(a)(s2)\n",
    "            \n",
    "            def map[B](f: A => B): State[S, B] =\n",
    "                underlying.flatMap(a => unit(f(a)))\n",
    "\n",
    "            def map2[B, C](sb: State[S, B])(f: (A, B) => C): State[S, C] =\n",
    "                underlying.flatMap(a => sb.map(b => f(a, b)))\n",
    "}\n",
    "\n",
    "import Fps2.State\n",
    "\n",
    "type Rand[A] = State[RNG, A]\n",
    "\n",
    "def int : Rand[Int] = State(rng => rng.nextInt)\n",
    "\n",
    "int.map(_.toString).run(SimpleRNG(42))\n",
    "\n",
    "int.map2(int)(_ + _).run(SimpleRNG(42))"
   ]
  },
  {
   "cell_type": "code",
   "execution_count": null,
   "metadata": {},
   "outputs": [],
   "source": []
  }
 ],
 "metadata": {
  "kernelspec": {
   "display_name": "Scala",
   "language": "scala",
   "name": "scala"
  },
  "language_info": {
   "codemirror_mode": "text/x-scala",
   "file_extension": ".sc",
   "mimetype": "text/x-scala",
   "name": "scala",
   "nbconvert_exporter": "script",
   "version": "2.13.10"
  },
  "orig_nbformat": 4
 },
 "nbformat": 4,
 "nbformat_minor": 2
}
