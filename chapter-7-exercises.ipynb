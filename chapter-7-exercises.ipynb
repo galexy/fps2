{
 "cells": [
  {
   "attachments": {},
   "cell_type": "markdown",
   "metadata": {},
   "source": [
    "#### Exercise 7.1\n",
    "\n",
    "`Par.map2` is a new higher-order function for combining the result of two parallel computations. What is its signature?"
   ]
  },
  {
   "attachments": {},
   "cell_type": "markdown",
   "metadata": {},
   "source": [
    "```scala\n",
    "def map2[A, B, C](a: Par[A])(b: Par[B])(f: (A, B) => C): Par[C]\n",
    "```"
   ]
  },
  {
   "attachments": {},
   "cell_type": "markdown",
   "metadata": {},
   "source": [
    "#### Exercise 7.2\n",
    "\n",
    "Try to come up with the representation for `Par` that make it possible to implement the functions of our API."
   ]
  },
  {
   "cell_type": "code",
   "execution_count": 1,
   "metadata": {},
   "outputs": [
    {
     "data": {
      "text/plain": [
       "\u001b[32mimport \u001b[39m\u001b[36mjava.util.concurrent.{ExecutorService, Callable, Future, TimeUnit}\n",
       "\u001b[39m"
      ]
     },
     "execution_count": 1,
     "metadata": {},
     "output_type": "execute_result"
    }
   ],
   "source": [
    "import java.util.concurrent.{ExecutorService, Callable, Future, TimeUnit}"
   ]
  },
  {
   "cell_type": "code",
   "execution_count": 2,
   "metadata": {},
   "outputs": [
    {
     "data": {
      "text/plain": [
       "defined \u001b[32mtype\u001b[39m \u001b[36mPar\u001b[39m\n",
       "defined \u001b[32mextension methods\u001b[39m "
      ]
     },
     "execution_count": 2,
     "metadata": {},
     "output_type": "execute_result"
    }
   ],
   "source": [
    "type Par[A] = ExecutorService => Future[A]\n",
    "\n",
    "extension [A](pa: Par[A])\n",
    "    def run(s: ExecutorService): Future[A] = pa(s)"
   ]
  },
  {
   "cell_type": "code",
   "execution_count": 8,
   "metadata": {},
   "outputs": [
    {
     "data": {
      "text/plain": [
       "defined \u001b[32mobject\u001b[39m \u001b[36mPar\u001b[39m\n",
       "defined \u001b[32mclass\u001b[39m \u001b[36mUnitFuture\u001b[39m\n",
       "defined \u001b[32mextension methods\u001b[39m "
      ]
     },
     "execution_count": 8,
     "metadata": {},
     "output_type": "execute_result"
    }
   ],
   "source": [
    "object Par:\n",
    "    def unit[A](a: A): Par[A] = es => UnitFuture(a)\n",
    "    def lazyUnit[A](a: => A): Par[A] = fork(unit(a))\n",
    "    def fork[A](a: => Par[A]): Par[A] =\n",
    "        es => es.submit(() => a(es).get)\n",
    "\n",
    "case class UnitFuture[A](get: A) extends Future[A]:\n",
    "    def isDone = true\n",
    "    def get(timeout: Long, units: TimeUnit) = get\n",
    "    def isCancelled = false\n",
    "    def cancel(evenIfRunning: Boolean): Boolean = false\n",
    "\n",
    "extension [A](pa: Par[A])\n",
    "    def map2[B, C](pb: Par[B])(f: (A, B) => C): Par[C] =\n",
    "        (es: ExecutorService) =>\n",
    "            val futureA = pa(es)\n",
    "            val futureB = pb(es)\n",
    "            UnitFuture(f(futureA.get, futureB.get))\n"
   ]
  },
  {
   "attachments": {},
   "cell_type": "markdown",
   "metadata": {},
   "source": [
    "#### Exercise 7.3\n",
    "\n",
    "*Hard*: Fix the implementaiton of `map2` so it respects the contract of timeouts on `Future`."
   ]
  },
  {
   "cell_type": "code",
   "execution_count": 9,
   "metadata": {},
   "outputs": [
    {
     "data": {
      "text/plain": [
       "defined \u001b[32mclass\u001b[39m \u001b[36mMap2Future\u001b[39m"
      ]
     },
     "execution_count": 9,
     "metadata": {},
     "output_type": "execute_result"
    }
   ],
   "source": [
    "case class Map2Future[A, B, C](futureA: Future[A], futureB: Future[B], f: (A, B) => C) extends Future[C]:\n",
    "    def isDone = true\n",
    "    def isCancelled = false\n",
    "    def get = f(futureA.get, futureB.get)\n",
    "    def cancel(evenIfRunning: Boolean): Boolean = false\n",
    "    def get(timeout: Long, units: TimeUnit) =\n",
    "        val timeoutNanos = units.toNanos(timeout)\n",
    "        val endNanos = System.nanoTime() + timeoutNanos\n",
    "\n",
    "        val a = futureA.get(timeoutNanos, TimeUnit.NANOSECONDS)\n",
    "\n",
    "        val timeleft = endNanos - System.nanoTime()\n",
    "        val b = futureB.get(timeleft, TimeUnit.NANOSECONDS)\n",
    "\n",
    "        f(a, b)\n"
   ]
  },
  {
   "attachments": {},
   "cell_type": "markdown",
   "metadata": {},
   "source": [
    "#### Exercise 7.4\n",
    "\n",
    "This API already enables a rich set of operations. Here's a simple example. Using `lazyUnit`, write a function to convert any function `A => B` to one that evaluates its result asynchronously."
   ]
  },
  {
   "cell_type": "code",
   "execution_count": 11,
   "metadata": {},
   "outputs": [
    {
     "data": {
      "text/plain": [
       "defined \u001b[32mfunction\u001b[39m \u001b[36masyncF\u001b[39m"
      ]
     },
     "execution_count": 11,
     "metadata": {},
     "output_type": "execute_result"
    }
   ],
   "source": [
    "def asyncF[A, B](f: A => B): A => Par[B] =\n",
    "    a => Par.lazyUnit(f(a))"
   ]
  },
  {
   "attachments": {},
   "cell_type": "markdown",
   "metadata": {},
   "source": [
    "#### Exercise 7.5\n",
    "\n",
    "Write this function, called `sequence`. No additional primitivies are required; do not call `run`."
   ]
  },
  {
   "cell_type": "code",
   "execution_count": 12,
   "metadata": {},
   "outputs": [
    {
     "data": {
      "text/plain": [
       "defined \u001b[32mfunction\u001b[39m \u001b[36msequence\u001b[39m"
      ]
     },
     "execution_count": 12,
     "metadata": {},
     "output_type": "execute_result"
    }
   ],
   "source": [
    "def sequence[A](ps: List[Par[A]]): Par[List[A]] =\n",
    "    ps.foldRight(Par.unit(Nil:List[A]))((p, acc) => p.map2(acc)(_ :: _))"
   ]
  },
  {
   "cell_type": "code",
   "execution_count": 14,
   "metadata": {},
   "outputs": [
    {
     "data": {
      "text/plain": [
       "defined \u001b[32mfunction\u001b[39m \u001b[36mparMap\u001b[39m"
      ]
     },
     "execution_count": 14,
     "metadata": {},
     "output_type": "execute_result"
    }
   ],
   "source": [
    "def parMap[A, B](ps: List[A])(f: A => B): Par[List[B]] =\n",
    "    Par.fork {\n",
    "        val fbs : List[Par[B]] = ps.map(asyncF(f))\n",
    "        sequence(fbs)\n",
    "    }"
   ]
  },
  {
   "attachments": {},
   "cell_type": "markdown",
   "metadata": {},
   "source": [
    "#### Exercise 7.6\n",
    "\n",
    "Implement `parFilter`, which filters elements of a list in parallel"
   ]
  },
  {
   "cell_type": "code",
   "execution_count": 17,
   "metadata": {},
   "outputs": [
    {
     "data": {
      "text/plain": [
       "defined \u001b[32mfunction\u001b[39m \u001b[36mparFilter\u001b[39m"
      ]
     },
     "execution_count": 17,
     "metadata": {},
     "output_type": "execute_result"
    }
   ],
   "source": [
    "def parFilter[A](as: List[A])(f: A => Boolean): Par[List[A]] =\n",
    "    Par.fork {\n",
    "        val pbools = parMap(as)(f)\n",
    "        Par.unit(as).map2(pbools)((as, bs) => \n",
    "            as.zip(bs).filter(_._2).map(_._1)\n",
    "        )\n",
    "    }"
   ]
  },
  {
   "cell_type": "code",
   "execution_count": null,
   "metadata": {},
   "outputs": [],
   "source": []
  }
 ],
 "metadata": {
  "kernelspec": {
   "display_name": "Scala",
   "language": "scala",
   "name": "scala"
  },
  "language_info": {
   "codemirror_mode": "text/x-scala",
   "file_extension": ".sc",
   "mimetype": "text/x-scala",
   "name": "scala",
   "nbconvert_exporter": "script",
   "version": "2.13.10"
  },
  "orig_nbformat": 4
 },
 "nbformat": 4,
 "nbformat_minor": 2
}
