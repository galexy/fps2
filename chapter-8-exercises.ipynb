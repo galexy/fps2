{
 "cells": [
  {
   "attachments": {},
   "cell_type": "markdown",
   "metadata": {},
   "source": [
    "#### Exercise 8.1\n",
    "\n",
    "To get used to thinking about testing in this way, come up with properties that specify the implementation of a `sum: List[Int] => Int` function. You don’t have to write your properties down as executable ScalaCheck code—an informal description is fine. Here are some ideas to get you started:\n",
    "\n",
    "* Reversing a list and summing it should give the same result as summing the original, non-reversed list.\n",
    "* What should the sum be if all elements of the list are the same value?\n",
    "* Can you think of other properties?"
   ]
  },
  {
   "attachments": {},
   "cell_type": "markdown",
   "metadata": {},
   "source": [
    "##### Answer\n",
    "\n",
    "1. Sum of an empty list is zero\n",
    "2. Sum of a list should equal to its head plus the sum of the tail\n",
    "3. Sum of repeated number should be `n * number`"
   ]
  },
  {
   "attachments": {},
   "cell_type": "markdown",
   "metadata": {},
   "source": [
    "#### Exercise 8.2\n",
    "\n",
    "What properties specify a function that finds the maximum of a `List[Int]`?"
   ]
  },
  {
   "attachments": {},
   "cell_type": "markdown",
   "metadata": {},
   "source": [
    "##### Answer\n",
    "\n",
    "1. Maximum is greater or equal to all items in a list\n",
    "2. Maximum number is an element in the list\n",
    "3. Maximum of empty list is undefined"
   ]
  },
  {
   "attachments": {},
   "cell_type": "markdown",
   "metadata": {},
   "source": [
    "#### Exercise 8.3\n",
    "\n",
    "Assuming the following representation of `Prop`, implement `&&` as a method of `Prop`."
   ]
  },
  {
   "cell_type": "code",
   "execution_count": 1,
   "metadata": {},
   "outputs": [
    {
     "data": {
      "text/plain": [
       "defined \u001b[32mtrait\u001b[39m \u001b[36mProp\u001b[39m"
      ]
     },
     "execution_count": 1,
     "metadata": {},
     "output_type": "execute_result"
    }
   ],
   "source": [
    "trait Prop:\n",
    "    self =>\n",
    "    def check: Boolean\n",
    "    def &&(that: Prop): Prop = \n",
    "        new Prop:\n",
    "            def check = self.check && that.check"
   ]
  },
  {
   "cell_type": "code",
   "execution_count": 2,
   "metadata": {},
   "outputs": [
    {
     "data": {
      "text/plain": [
       "defined \u001b[32mobject\u001b[39m \u001b[36mProp\u001b[39m\n",
       "defined \u001b[32mtrait\u001b[39m \u001b[36mProp\u001b[39m"
      ]
     },
     "execution_count": 2,
     "metadata": {},
     "output_type": "execute_result"
    }
   ],
   "source": [
    "object Prop:\n",
    "    type FailedCase = String\n",
    "    type SuccessCount = Int\n",
    "\n",
    "trait Prop:\n",
    "    self =>\n",
    "\n",
    "    import Prop.*\n",
    "    def check: Either[(FailedCase, SuccessCount), SuccessCount]\n",
    "    def &&(that: Prop): Prop"
   ]
  },
  {
   "cell_type": "code",
   "execution_count": 3,
   "metadata": {},
   "outputs": [
    {
     "data": {
      "text/plain": [
       "defined \u001b[32mtype\u001b[39m \u001b[36mState\u001b[39m\n",
       "defined \u001b[32mobject\u001b[39m \u001b[36mState\u001b[39m\n",
       "defined \u001b[32mextension methods\u001b[39m "
      ]
     },
     "execution_count": 3,
     "metadata": {},
     "output_type": "execute_result"
    }
   ],
   "source": [
    "type State[S, +A] = S => (A, S)\n",
    "\n",
    "object State:\n",
    "    def apply[S, A](f: S => (A, S)): State[S, A] = f\n",
    "\n",
    "    def unit[S, A](a: A): State[S, A] =\n",
    "        s => (a, s)\n",
    "\n",
    "    def sequence[S, A](s: List[State[S, A]]): State[S, List[A]] =\n",
    "        s.foldRight(unit(Nil : List[A]))((s, acc) => s.map2(acc)(_ :: _))\n",
    "\n",
    "extension [S, A](underlying: State[S, A])\n",
    "    def run(s: S): (A, S) = underlying(s)\n",
    "\n",
    "    def flatMap[B](f: A => State[S, B]): State[S, B] =\n",
    "        s => \n",
    "            val (a, s2) = underlying(s)\n",
    "            f(a)(s2)\n",
    "    \n",
    "    def map[B](f: A => B): State[S, B] =\n",
    "        underlying.flatMap(a => State.unit(f(a)))\n",
    "\n",
    "    def map2[B, C](sb: State[S, B])(f: (A, B) => C): State[S, C] =\n",
    "        underlying.flatMap(a => sb.map(b => f(a, b)))"
   ]
  },
  {
   "cell_type": "code",
   "execution_count": 4,
   "metadata": {},
   "outputs": [
    {
     "data": {
      "text/plain": [
       "defined \u001b[32mtrait\u001b[39m \u001b[36mRNG\u001b[39m\n",
       "defined \u001b[32mclass\u001b[39m \u001b[36mSimpleRNG\u001b[39m\n",
       "defined \u001b[32mfunction\u001b[39m \u001b[36mnonNegativeInt\u001b[39m\n",
       "defined \u001b[32mtype\u001b[39m \u001b[36mGen\u001b[39m"
      ]
     },
     "execution_count": 4,
     "metadata": {},
     "output_type": "execute_result"
    }
   ],
   "source": [
    "trait RNG:\n",
    "    def nextInt: (Int, RNG)\n",
    "\n",
    "case class SimpleRNG(seed: Long) extends RNG:\n",
    "    def nextInt: (Int, RNG) =\n",
    "        val newSeed = (seed * 0x5DeeCE66DL + 0xBL) & 0xFFFFFFFFFFFFL\n",
    "        val nextRNG = SimpleRNG(newSeed)\n",
    "        val n = (newSeed >>> 16).toInt\n",
    "        (n, nextRNG)\n",
    "\n",
    "def nonNegativeInt(rng: RNG): (Int, RNG) =\n",
    "    val (n, nextRNG) = rng.nextInt\n",
    "    val absN = if n == Int.MinValue then 0 else scala.math.abs(n)\n",
    "    (n, nextRNG)\n",
    "\n",
    "type Gen[+A] = State[RNG, A]"
   ]
  },
  {
   "attachments": {},
   "cell_type": "markdown",
   "metadata": {},
   "source": [
    "#### Exercise 8.4\n",
    "\n",
    "Implement `Gen.choose` using this representation of `Gen`. It should generate integers in the range `start` to `stopExclusive`. Feel free to use functions you’ve already written."
   ]
  },
  {
   "cell_type": "code",
   "execution_count": 5,
   "metadata": {},
   "outputs": [
    {
     "data": {
      "text/plain": [
       "defined \u001b[32mfunction\u001b[39m \u001b[36mchoose\u001b[39m"
      ]
     },
     "execution_count": 5,
     "metadata": {},
     "output_type": "execute_result"
    }
   ],
   "source": [
    "def choose(start: Int, stopExclusive: Int): Gen[Int] =\n",
    "    State(nonNegativeInt).map(_ % (stopExclusive - start) + start)"
   ]
  },
  {
   "attachments": {},
   "cell_type": "markdown",
   "metadata": {},
   "source": [
    "#### Exercise 8.5\n",
    "\n",
    "Let’s see what else we can implement using this representation of `Gen`. Try implementing `unit`, `boolean`, and `listOfN`.\n",
    "\n",
    "```scala\n",
    "def unit[A](a: => A): Gen[A]                                       \n",
    "def boolean: Gen[Boolean]\n",
    "extension [A](self: Gen[A]) def listOfN[A](n: Int): Gen[List[A]]\n",
    "```"
   ]
  },
  {
   "cell_type": "code",
   "execution_count": 6,
   "metadata": {},
   "outputs": [
    {
     "data": {
      "text/plain": [
       "defined \u001b[32mfunction\u001b[39m \u001b[36munit\u001b[39m"
      ]
     },
     "execution_count": 6,
     "metadata": {},
     "output_type": "execute_result"
    }
   ],
   "source": [
    "def unit[A](a: => A): Gen[A] = State.unit(a)"
   ]
  },
  {
   "cell_type": "code",
   "execution_count": 7,
   "metadata": {},
   "outputs": [
    {
     "data": {
      "text/plain": [
       "defined \u001b[32mfunction\u001b[39m \u001b[36mboolean\u001b[39m"
      ]
     },
     "execution_count": 7,
     "metadata": {},
     "output_type": "execute_result"
    }
   ],
   "source": [
    "def boolean: Gen[Boolean] = choose(0, 2).map(_ == 1)"
   ]
  },
  {
   "cell_type": "code",
   "execution_count": 8,
   "metadata": {},
   "outputs": [
    {
     "data": {
      "text/plain": [
       "defined \u001b[32mextension methods\u001b[39m "
      ]
     },
     "execution_count": 8,
     "metadata": {},
     "output_type": "execute_result"
    }
   ],
   "source": [
    "extension [A](self: Gen[A]) \n",
    "    def listOfN(n: Int): Gen[List[A]] =\n",
    "        State.sequence(List.fill(n)(self))"
   ]
  },
  {
   "attachments": {},
   "cell_type": "markdown",
   "metadata": {},
   "source": [
    "#### Exercise 8.6\n",
    "\n",
    "Implement `flatMap`, and then use it to implement this more dynamic version of `listOfN`. Put `flatMap` and `listOfN` in the `Gen` class."
   ]
  },
  {
   "cell_type": "code",
   "execution_count": 9,
   "metadata": {},
   "outputs": [
    {
     "data": {
      "text/plain": [
       "defined \u001b[32mextension methods\u001b[39m "
      ]
     },
     "execution_count": 9,
     "metadata": {},
     "output_type": "execute_result"
    }
   ],
   "source": [
    "extension [A](self: Gen[A])\n",
    "    def flatMap[B](f: A => Gen[B]): Gen[B] =\n",
    "        rng =>\n",
    "            val (a, r2) = self(rng)\n",
    "            f(a)(r2)\n",
    "\n",
    "    def listOfN(size: Gen[Int]): Gen[List[A]] =\n",
    "        size.flatMap(n => State.sequence(List.fill(n)(self)))"
   ]
  },
  {
   "attachments": {},
   "cell_type": "markdown",
   "metadata": {},
   "source": [
    "#### Exercise 8.7\n",
    "\n",
    "Implement `union`, for combining two generators of the same type into one, by pulling values from each generator with equal likelihood.\n",
    "    "
   ]
  },
  {
   "cell_type": "code",
   "execution_count": 10,
   "metadata": {},
   "outputs": [
    {
     "data": {
      "text/plain": [
       "defined \u001b[32mfunction\u001b[39m \u001b[36munion\u001b[39m"
      ]
     },
     "execution_count": 10,
     "metadata": {},
     "output_type": "execute_result"
    }
   ],
   "source": [
    "def union[A](g1: Gen[A], g2: Gen[A]): Gen[A] =\n",
    "    boolean.flatMap(if _ then g1 else g2)"
   ]
  },
  {
   "attachments": {},
   "cell_type": "markdown",
   "metadata": {},
   "source": [
    "#### Exercise 8.8\n",
    "\n",
    "Implement `weighted`, a version of `union` that accepts a weight for each `Gen` and generates values from each `Gen` with probability proportional to its weight."
   ]
  },
  {
   "cell_type": "code",
   "execution_count": 11,
   "metadata": {},
   "outputs": [
    {
     "data": {
      "text/plain": [
       "defined \u001b[32mfunction\u001b[39m \u001b[36mweighted\u001b[39m"
      ]
     },
     "execution_count": 11,
     "metadata": {},
     "output_type": "execute_result"
    }
   ],
   "source": [
    "def weighted[A](g1: (Gen[A], Double), g2: (Gen[A], Double)): Gen[A] =\n",
    "    val g1Threshold = (Int.MaxValue * g1._2 / (g1._2 + g2._2)).toInt\n",
    "    choose(0, Int.MaxValue).flatMap(n => if n <= g1Threshold then g1._1 else g2._1)"
   ]
  },
  {
   "cell_type": "code",
   "execution_count": 12,
   "metadata": {},
   "outputs": [
    {
     "data": {
      "text/plain": [
       "defined \u001b[32mclass\u001b[39m \u001b[36mResult\u001b[39m\n",
       "defined \u001b[32mtype\u001b[39m \u001b[36mTestCases\u001b[39m\n",
       "defined \u001b[32mobject\u001b[39m \u001b[36mTestCases\u001b[39m\n",
       "defined \u001b[32mtype\u001b[39m \u001b[36mProp\u001b[39m"
      ]
     },
     "execution_count": 12,
     "metadata": {},
     "output_type": "execute_result"
    }
   ],
   "source": [
    "enum Result:\n",
    "    case Passed\n",
    "    case Falsified(failure: Prop.FailedCase, successes: Prop.SuccessCount)\n",
    "\n",
    "    def isFalsified: Boolean = this match\n",
    "        case Passed => false\n",
    "        case _ => false\n",
    "\n",
    "type TestCases = Int\n",
    "object TestCases:\n",
    "    extension (x: TestCases) def toInt: Int = x\n",
    "    def fromInt(x: Int): TestCases = x\n",
    "\n",
    "type Prop = (TestCases, RNG) => Result"
   ]
  },
  {
   "cell_type": "code",
   "execution_count": 13,
   "metadata": {},
   "outputs": [
    {
     "data": {
      "text/plain": [
       "defined \u001b[32mfunction\u001b[39m \u001b[36mforAll\u001b[39m\n",
       "defined \u001b[32mfunction\u001b[39m \u001b[36mrandomLazyList\u001b[39m\n",
       "defined \u001b[32mfunction\u001b[39m \u001b[36mbuildMsg\u001b[39m"
      ]
     },
     "execution_count": 13,
     "metadata": {},
     "output_type": "execute_result"
    }
   ],
   "source": [
    "def forAll[A](as: Gen[A])(f: A => Boolean): Prop =\n",
    "    import Result.*\n",
    "    \n",
    "    (n, rng) =>\n",
    "        randomLazyList(as)(rng)\n",
    "            .zip(LazyList.from(0))\n",
    "            .take(n)\n",
    "            .map{\n",
    "                case (a, i) =>\n",
    "                    try\n",
    "                        if f(a) then Passed\n",
    "                        else Falsified(a.toString, i)\n",
    "                    catch\n",
    "                        case e: Exception =>\n",
    "                            Falsified(buildMsg(a, e), i)\n",
    "            }\n",
    "            .find(_.isFalsified)\n",
    "            .getOrElse(Passed)\n",
    "\n",
    "def randomLazyList[A](g: Gen[A])(rng: RNG): LazyList[A] =\n",
    "    LazyList.unfold(rng)(rng => Some(g.run(rng)))\n",
    "\n",
    "def buildMsg[A](s: A, e: Exception): String =\n",
    "    s\"test case: $s\\n\" +\n",
    "    s\"generated an exception: ${e.getMessage}\\n\" +\n",
    "    s\"stack trace:\\n ${e.getStackTrace.mkString(\"\\n\")}\""
   ]
  },
  {
   "attachments": {},
   "cell_type": "markdown",
   "metadata": {},
   "source": [
    "#### Exercise 8.9\n",
    "\n",
    "Now that we have a representation of `Prop`, implement `&&` and `||` for composing `Prop` values. Notice that in the case of failure we don’t know which property was responsible, the left or the right. Can you devise a way of handling this, perhaps by allowing Prop values to be assigned a tag or label which gets displayed in the event of a failure?"
   ]
  },
  {
   "cell_type": "code",
   "execution_count": 14,
   "metadata": {},
   "outputs": [
    {
     "data": {
      "text/plain": [
       "defined \u001b[32mextension methods\u001b[39m "
      ]
     },
     "execution_count": 14,
     "metadata": {},
     "output_type": "execute_result"
    }
   ],
   "source": [
    "extension (self: Prop)\n",
    "    def &&(that: Prop): Prop =\n",
    "        (n, rng) => self(n, rng) match\n",
    "            case Result.Passed => that(n, rng)\n",
    "            case f => f\n",
    "\n",
    "    def ||(that: Prop): Prop =\n",
    "        (n, rng) => self(n, rng) match\n",
    "            case Result.Passed => Result.Passed\n",
    "            case _ => that(n, rng)\n"
   ]
  },
  {
   "cell_type": "code",
   "execution_count": 15,
   "metadata": {},
   "outputs": [
    {
     "data": {
      "text/plain": [
       "defined \u001b[32mextension methods\u001b[39m "
      ]
     },
     "execution_count": 15,
     "metadata": {},
     "output_type": "execute_result"
    }
   ],
   "source": [
    "extension (self: Prop)    \n",
    "    def run(): Unit =\n",
    "        self(100, SimpleRNG(System.currentTimeMillis)) match\n",
    "            case Result.Falsified(msg, n) =>\n",
    "                println(s\"! Falsified after $n passed tests:\\n $msg\")\n",
    "            case Result.Passed =>\n",
    "                println(s\"+ OK, passed 100 tests.\")"
   ]
  },
  {
   "cell_type": "code",
   "execution_count": 16,
   "metadata": {},
   "outputs": [
    {
     "name": "stdout",
     "output_type": "stream",
     "text": [
      "+ OK, passed 100 tests.\n"
     ]
    },
    {
     "data": {
      "text/plain": [
       "\u001b[36mp\u001b[39m: (\u001b[32mTestCases\u001b[39m, \u001b[32mRNG\u001b[39m) => \u001b[32mResult\u001b[39m = ammonite.$sess.cmd12$Helper$$Lambda$3037/545333784@162d1e54"
      ]
     },
     "execution_count": 16,
     "metadata": {},
     "output_type": "execute_result"
    }
   ],
   "source": [
    "val p: Prop = forAll(boolean)(x => x == x)\n",
    "\n",
    "p.run()"
   ]
  },
  {
   "cell_type": "code",
   "execution_count": null,
   "metadata": {},
   "outputs": [],
   "source": []
  }
 ],
 "metadata": {
  "kernelspec": {
   "display_name": "Scala",
   "language": "scala",
   "name": "scala"
  },
  "language_info": {
   "codemirror_mode": "text/x-scala",
   "file_extension": ".sc",
   "mimetype": "text/x-scala",
   "name": "scala",
   "nbconvert_exporter": "script",
   "version": "2.13.10"
  },
  "orig_nbformat": 4
 },
 "nbformat": 4,
 "nbformat_minor": 2
}
