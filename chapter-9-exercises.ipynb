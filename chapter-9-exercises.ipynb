{
 "cells": [
  {
   "cell_type": "code",
   "execution_count": 1,
   "metadata": {},
   "outputs": [
    {
     "data": {
      "text/plain": [
       "defined \u001b[32mtrait\u001b[39m \u001b[36mParsers\u001b[39m"
      ]
     },
     "execution_count": 1,
     "metadata": {},
     "output_type": "execute_result"
    }
   ],
   "source": [
    "trait Parsers[ParseError, Parser[+_]]:\n",
    "    def char(c: Char): Parser[Char]\n",
    "    def string(s: String): Parser[String]\n",
    "\n",
    "    extension [A](p: Parser[A])\n",
    "        def run(input: String): Either[ParseError, A]\n",
    "        infix def or(p2: Parser[A]): Parser[A]\n",
    "        def |(p2: Parser[A]): Parser[A] = p or p2\n",
    "        def listOfN(n: Int): List[Parser[A]]"
   ]
  },
  {
   "attachments": {},
   "cell_type": "markdown",
   "metadata": {},
   "source": [
    "#### Brainstorming a parser algebra\n",
    "\n",
    "- Combinators\n",
    "    - Concat:  `a & b`\n",
    "    - Recognize parser `a` zero or one times\n",
    "    - Recognize parser `a` zero or more times\n",
    "    - Recognize parser `a` one or more times\n",
    "    - Or: `a` or `b`\n",
    "    - Recognizes nothing: `ϵ`\n",
    "\n",
    "- Laws\n",
    "    - `∀s (a & b).run(s) = ab.run(s)`\n",
    "    - `∀s (a | b).run(s) = (b | a).run(s)`\n",
    "    - `∀s (ϵ.run(s)) = Right`\n",
    "    - `∀s (ϵ & a).run(s) = a.run(s)`\n",
    "    - `∀s (a & ϵ).run(s) = a.run(s)`\n",
    "    - `∀s ((ϵ | a) & (b)).run(s) = (ab | b).run(s)`\n",
    "    - `∀s (ϵ | a).run(s) = (a?).run(s)`\n",
    "    - `∀s (ϵ | a+).run(s) = (a*).run(s)`\n"
   ]
  },
  {
   "cell_type": "code",
   "execution_count": null,
   "metadata": {},
   "outputs": [],
   "source": []
  }
 ],
 "metadata": {
  "kernelspec": {
   "display_name": "Scala",
   "language": "scala",
   "name": "scala"
  },
  "language_info": {
   "codemirror_mode": "text/x-scala",
   "file_extension": ".sc",
   "mimetype": "text/x-scala",
   "name": "scala",
   "nbconvert_exporter": "script",
   "version": "2.13.10"
  },
  "orig_nbformat": 4
 },
 "nbformat": 4,
 "nbformat_minor": 2
}
